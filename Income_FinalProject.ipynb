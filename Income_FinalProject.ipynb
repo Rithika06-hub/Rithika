{
  "cells": [
    {
      "cell_type": "markdown",
      "metadata": {
        "id": "view-in-github",
        "colab_type": "text"
      },
      "source": [
        "<a href=\"https://colab.research.google.com/github/Rithika06-hub/Rithika/blob/main/Income_FinalProject.ipynb\" target=\"_parent\"><img src=\"https://colab.research.google.com/assets/colab-badge.svg\" alt=\"Open In Colab\"/></a>"
      ]
    },
    {
      "cell_type": "markdown",
      "id": "54da290a",
      "metadata": {
        "id": "54da290a"
      },
      "source": [
        "# Final Project"
      ]
    },
    {
      "cell_type": "markdown",
      "id": "386174cb",
      "metadata": {
        "id": "386174cb"
      },
      "source": [
        "# Importing Libraries"
      ]
    },
    {
      "cell_type": "code",
      "execution_count": 1,
      "id": "85781570",
      "metadata": {
        "id": "85781570"
      },
      "outputs": [],
      "source": [
        "import pandas as pd\n",
        "import numpy as np\n",
        "import seaborn as sns\n",
        "from matplotlib import pyplot as plt\n",
        "import matplotlib.pyplot as plt"
      ]
    },
    {
      "cell_type": "markdown",
      "id": "535b3c43",
      "metadata": {
        "id": "535b3c43"
      },
      "source": [
        "# Reading the Adult data"
      ]
    },
    {
      "cell_type": "code",
      "execution_count": null,
      "id": "b4f2d0d1",
      "metadata": {
        "id": "b4f2d0d1",
        "outputId": "0bab14c9-2533-4512-8161-1bb082c18bac"
      },
      "outputs": [
        {
          "ename": "SyntaxError",
          "evalue": "(unicode error) 'unicodeescape' codec can't decode bytes in position 0-1: truncated \\UXXXXXXXX escape (<ipython-input-12-31e296b6863b>, line 1)",
          "output_type": "error",
          "traceback": [
            "\u001b[1;36m  File \u001b[1;32m\"<ipython-input-12-31e296b6863b>\"\u001b[1;36m, line \u001b[1;32m1\u001b[0m\n\u001b[1;33m    adult = pd.read_csv('\\Users\\gmuke\\OneDrive\\Desktop\\adult1.data', na_values='NA')\u001b[0m\n\u001b[1;37m                        ^\u001b[0m\n\u001b[1;31mSyntaxError\u001b[0m\u001b[1;31m:\u001b[0m (unicode error) 'unicodeescape' codec can't decode bytes in position 0-1: truncated \\UXXXXXXXX escape\n"
          ]
        }
      ],
      "source": [
        "adult = pd.read_csv('adult1.data', na_values='NA')"
      ]
    },
    {
      "cell_type": "code",
      "execution_count": null,
      "id": "e260aef1",
      "metadata": {
        "id": "e260aef1"
      },
      "outputs": [],
      "source": [
        "df = pd.DataFrame(adult)"
      ]
    },
    {
      "cell_type": "markdown",
      "id": "b57a4dad",
      "metadata": {
        "id": "b57a4dad"
      },
      "source": [
        "# Displaying the content of Adult dataset"
      ]
    },
    {
      "cell_type": "code",
      "execution_count": null,
      "id": "e65d3ada",
      "metadata": {
        "id": "e65d3ada",
        "outputId": "45bab40b-98ca-408c-e430-ed59deb3b270"
      },
      "outputs": [
        {
          "name": "stdout",
          "output_type": "stream",
          "text": [
            "<class 'pandas.core.frame.DataFrame'>\n",
            "RangeIndex: 1593 entries, 0 to 1592\n",
            "Data columns (total 15 columns):\n",
            " #   Column          Non-Null Count  Dtype \n",
            "---  ------          --------------  ----- \n",
            " 0   AGE             1593 non-null   int64 \n",
            " 1   WORKCLASS       1593 non-null   object\n",
            " 2   FNLWGT          1593 non-null   int64 \n",
            " 3   EDUCATION       1593 non-null   object\n",
            " 4   EDUCATION_NUM   1593 non-null   int64 \n",
            " 5   MARITAL-STATUS  1593 non-null   object\n",
            " 6   OCCUPATION      1593 non-null   object\n",
            " 7   RELATIONSHIP    1593 non-null   object\n",
            " 8   RACE            1593 non-null   object\n",
            " 9   SEX             1593 non-null   object\n",
            " 10  CAPITAL-GAIN    1593 non-null   int64 \n",
            " 11  CAPITAL-LOSS    1593 non-null   int64 \n",
            " 12  HOURS-PER-WEEK  1593 non-null   int64 \n",
            " 13  NATIVE_COUNTRY  1593 non-null   object\n",
            " 14  INCOME          1593 non-null   object\n",
            "dtypes: int64(6), object(9)\n",
            "memory usage: 186.8+ KB\n"
          ]
        }
      ],
      "source": [
        "df.info()"
      ]
    },
    {
      "cell_type": "code",
      "execution_count": null,
      "id": "d7222e38",
      "metadata": {
        "id": "d7222e38",
        "outputId": "702f6e1b-296e-4fbe-b672-4a6dae37570d"
      },
      "outputs": [
        {
          "data": {
            "text/html": [
              "<div>\n",
              "<style scoped>\n",
              "    .dataframe tbody tr th:only-of-type {\n",
              "        vertical-align: middle;\n",
              "    }\n",
              "\n",
              "    .dataframe tbody tr th {\n",
              "        vertical-align: top;\n",
              "    }\n",
              "\n",
              "    .dataframe thead th {\n",
              "        text-align: right;\n",
              "    }\n",
              "</style>\n",
              "<table border=\"1\" class=\"dataframe\">\n",
              "  <thead>\n",
              "    <tr style=\"text-align: right;\">\n",
              "      <th></th>\n",
              "      <th>AGE</th>\n",
              "      <th>WORKCLASS</th>\n",
              "      <th>FNLWGT</th>\n",
              "      <th>EDUCATION</th>\n",
              "      <th>EDUCATION_NUM</th>\n",
              "      <th>MARITAL-STATUS</th>\n",
              "      <th>OCCUPATION</th>\n",
              "      <th>RELATIONSHIP</th>\n",
              "      <th>RACE</th>\n",
              "      <th>SEX</th>\n",
              "      <th>CAPITAL-GAIN</th>\n",
              "      <th>CAPITAL-LOSS</th>\n",
              "      <th>HOURS-PER-WEEK</th>\n",
              "      <th>NATIVE_COUNTRY</th>\n",
              "      <th>INCOME</th>\n",
              "    </tr>\n",
              "  </thead>\n",
              "  <tbody>\n",
              "    <tr>\n",
              "      <th>0</th>\n",
              "      <td>39</td>\n",
              "      <td>State-gov</td>\n",
              "      <td>77516</td>\n",
              "      <td>Bachelors</td>\n",
              "      <td>13</td>\n",
              "      <td>Never-married</td>\n",
              "      <td>Adm-clerical</td>\n",
              "      <td>Not-in-family</td>\n",
              "      <td>White</td>\n",
              "      <td>Male</td>\n",
              "      <td>2174</td>\n",
              "      <td>0</td>\n",
              "      <td>40</td>\n",
              "      <td>United-States</td>\n",
              "      <td>&lt;=50K</td>\n",
              "    </tr>\n",
              "    <tr>\n",
              "      <th>1</th>\n",
              "      <td>50</td>\n",
              "      <td>Self-emp-not-inc</td>\n",
              "      <td>83311</td>\n",
              "      <td>Bachelors</td>\n",
              "      <td>13</td>\n",
              "      <td>Married-civ-spouse</td>\n",
              "      <td>Exec-managerial</td>\n",
              "      <td>Husband</td>\n",
              "      <td>White</td>\n",
              "      <td>Male</td>\n",
              "      <td>0</td>\n",
              "      <td>0</td>\n",
              "      <td>13</td>\n",
              "      <td>United-States</td>\n",
              "      <td>&lt;=50K</td>\n",
              "    </tr>\n",
              "    <tr>\n",
              "      <th>2</th>\n",
              "      <td>38</td>\n",
              "      <td>Private</td>\n",
              "      <td>215646</td>\n",
              "      <td>HS-grad</td>\n",
              "      <td>9</td>\n",
              "      <td>Divorced</td>\n",
              "      <td>Handlers-cleaners</td>\n",
              "      <td>Not-in-family</td>\n",
              "      <td>White</td>\n",
              "      <td>Male</td>\n",
              "      <td>0</td>\n",
              "      <td>0</td>\n",
              "      <td>40</td>\n",
              "      <td>United-States</td>\n",
              "      <td>&lt;=50K</td>\n",
              "    </tr>\n",
              "    <tr>\n",
              "      <th>3</th>\n",
              "      <td>53</td>\n",
              "      <td>Private</td>\n",
              "      <td>234721</td>\n",
              "      <td>11th</td>\n",
              "      <td>7</td>\n",
              "      <td>Married-civ-spouse</td>\n",
              "      <td>Handlers-cleaners</td>\n",
              "      <td>Husband</td>\n",
              "      <td>Black</td>\n",
              "      <td>Male</td>\n",
              "      <td>0</td>\n",
              "      <td>0</td>\n",
              "      <td>40</td>\n",
              "      <td>United-States</td>\n",
              "      <td>&lt;=50K</td>\n",
              "    </tr>\n",
              "    <tr>\n",
              "      <th>4</th>\n",
              "      <td>28</td>\n",
              "      <td>Private</td>\n",
              "      <td>338409</td>\n",
              "      <td>Bachelors</td>\n",
              "      <td>13</td>\n",
              "      <td>Married-civ-spouse</td>\n",
              "      <td>Prof-specialty</td>\n",
              "      <td>Wife</td>\n",
              "      <td>Black</td>\n",
              "      <td>Female</td>\n",
              "      <td>0</td>\n",
              "      <td>0</td>\n",
              "      <td>40</td>\n",
              "      <td>Cuba</td>\n",
              "      <td>&lt;=50K</td>\n",
              "    </tr>\n",
              "  </tbody>\n",
              "</table>\n",
              "</div>"
            ],
            "text/plain": [
              "   AGE          WORKCLASS  FNLWGT   EDUCATION  EDUCATION_NUM  \\\n",
              "0   39          State-gov   77516   Bachelors             13   \n",
              "1   50   Self-emp-not-inc   83311   Bachelors             13   \n",
              "2   38            Private  215646     HS-grad              9   \n",
              "3   53            Private  234721        11th              7   \n",
              "4   28            Private  338409   Bachelors             13   \n",
              "\n",
              "        MARITAL-STATUS          OCCUPATION    RELATIONSHIP    RACE      SEX  \\\n",
              "0        Never-married        Adm-clerical   Not-in-family   White     Male   \n",
              "1   Married-civ-spouse     Exec-managerial         Husband   White     Male   \n",
              "2             Divorced   Handlers-cleaners   Not-in-family   White     Male   \n",
              "3   Married-civ-spouse   Handlers-cleaners         Husband   Black     Male   \n",
              "4   Married-civ-spouse      Prof-specialty            Wife   Black   Female   \n",
              "\n",
              "   CAPITAL-GAIN  CAPITAL-LOSS  HOURS-PER-WEEK  NATIVE_COUNTRY  INCOME  \n",
              "0          2174             0              40   United-States   <=50K  \n",
              "1             0             0              13   United-States   <=50K  \n",
              "2             0             0              40   United-States   <=50K  \n",
              "3             0             0              40   United-States   <=50K  \n",
              "4             0             0              40            Cuba   <=50K  "
            ]
          },
          "execution_count": 5,
          "metadata": {},
          "output_type": "execute_result"
        }
      ],
      "source": [
        "df.head()"
      ]
    },
    {
      "cell_type": "markdown",
      "id": "fd533fd7",
      "metadata": {
        "id": "fd533fd7"
      },
      "source": [
        "# Adult dataset attributes"
      ]
    },
    {
      "cell_type": "code",
      "execution_count": null,
      "id": "830be590",
      "metadata": {
        "id": "830be590",
        "outputId": "2c763a50-8c22-42c3-ffce-b6d83c6d80bd"
      },
      "outputs": [
        {
          "data": {
            "text/plain": [
              "Index(['AGE', 'WORKCLASS', 'FNLWGT', 'EDUCATION', 'EDUCATION_NUM',\n",
              "       'MARITAL-STATUS', 'OCCUPATION', 'RELATIONSHIP', 'RACE', 'SEX',\n",
              "       'CAPITAL-GAIN', 'CAPITAL-LOSS', 'HOURS-PER-WEEK', 'NATIVE_COUNTRY',\n",
              "       'INCOME'],\n",
              "      dtype='object')"
            ]
          },
          "execution_count": 6,
          "metadata": {},
          "output_type": "execute_result"
        }
      ],
      "source": [
        "df.columns"
      ]
    },
    {
      "cell_type": "markdown",
      "id": "ceedf4ad",
      "metadata": {
        "id": "ceedf4ad"
      },
      "source": [
        "# Information about columns"
      ]
    },
    {
      "cell_type": "code",
      "execution_count": null,
      "id": "202bbca4",
      "metadata": {
        "id": "202bbca4",
        "outputId": "e09234c4-ee4e-4057-ecd5-52af90cbe723"
      },
      "outputs": [
        {
          "data": {
            "text/plain": [
              "array([39, 50, 38, 53, 28, 37, 49, 52, 31, 42, 30, 23, 32, 40, 34, 25, 43,\n",
              "       54, 35, 59, 56, 19, 20, 45, 22, 48, 21, 24, 57, 44, 41, 29, 18, 47,\n",
              "       46, 36, 79, 27, 67, 33, 76, 17, 55, 61, 70, 64, 71, 68, 66, 51, 58,\n",
              "       26, 60, 90, 75, 65, 77, 62, 63, 80, 72, 74, 69, 73, 81, 78, 88])"
            ]
          },
          "execution_count": 7,
          "metadata": {},
          "output_type": "execute_result"
        }
      ],
      "source": [
        "df['AGE'].unique()"
      ]
    },
    {
      "cell_type": "code",
      "execution_count": null,
      "id": "bc56406c",
      "metadata": {
        "id": "bc56406c",
        "outputId": "6dd99a44-65e6-4335-b602-cb8c76803881"
      },
      "outputs": [
        {
          "data": {
            "text/plain": [
              "31    52\n",
              "43    50\n",
              "34    48\n",
              "41    47\n",
              "30    44\n",
              "      ..\n",
              "80     1\n",
              "74     1\n",
              "81     1\n",
              "78     1\n",
              "88     1\n",
              "Name: AGE, Length: 67, dtype: int64"
            ]
          },
          "execution_count": 8,
          "metadata": {},
          "output_type": "execute_result"
        }
      ],
      "source": [
        "df['AGE'].value_counts()"
      ]
    },
    {
      "cell_type": "code",
      "execution_count": null,
      "id": "24584542",
      "metadata": {
        "id": "24584542"
      },
      "outputs": [],
      "source": [
        "df[\"AGE\"]=pd.to_numeric(df[\"AGE\"])\n"
      ]
    },
    {
      "cell_type": "markdown",
      "id": "fc935ba7",
      "metadata": {
        "id": "fc935ba7"
      },
      "source": [
        "# Checking for missing values"
      ]
    },
    {
      "cell_type": "code",
      "execution_count": null,
      "id": "fa033861",
      "metadata": {
        "id": "fa033861",
        "outputId": "72a3777f-a94b-4759-d597-5d00d2df682d"
      },
      "outputs": [
        {
          "data": {
            "text/plain": [
              "array([' State-gov', ' Self-emp-not-inc', ' Private', ' Federal-gov',\n",
              "       ' Local-gov', ' ', ' Self-emp-inc'], dtype=object)"
            ]
          },
          "execution_count": 10,
          "metadata": {},
          "output_type": "execute_result"
        }
      ],
      "source": [
        "df[\"WORKCLASS\"].unique()"
      ]
    },
    {
      "cell_type": "code",
      "execution_count": null,
      "id": "fb799cfb",
      "metadata": {
        "id": "fb799cfb"
      },
      "outputs": [],
      "source": [
        "df['WORKCLASS'] = df['WORKCLASS'].astype(str)"
      ]
    },
    {
      "cell_type": "code",
      "execution_count": null,
      "id": "fe111f30",
      "metadata": {
        "id": "fe111f30"
      },
      "outputs": [],
      "source": [
        "df['WORKCLASS']=df['WORKCLASS'].replace(' ',np.NaN)"
      ]
    },
    {
      "cell_type": "code",
      "execution_count": null,
      "id": "e03b8517",
      "metadata": {
        "id": "e03b8517",
        "outputId": "cfd2a342-818a-4bf4-883d-bf18287a7702"
      },
      "outputs": [
        {
          "data": {
            "text/plain": [
              "0               State-gov\n",
              "1        Self-emp-not-inc\n",
              "2                 Private\n",
              "3                 Private\n",
              "4                 Private\n",
              "              ...        \n",
              "1588              Private\n",
              "1589              Private\n",
              "1590              Private\n",
              "1591            Local-gov\n",
              "1592                  NaN\n",
              "Name: WORKCLASS, Length: 1593, dtype: object"
            ]
          },
          "execution_count": 13,
          "metadata": {},
          "output_type": "execute_result"
        }
      ],
      "source": [
        "df['WORKCLASS']"
      ]
    },
    {
      "cell_type": "code",
      "execution_count": null,
      "id": "e3502d3f",
      "metadata": {
        "id": "e3502d3f",
        "outputId": "2ceb6d89-4971-4162-d428-ecb60f6d6e5c"
      },
      "outputs": [
        {
          "data": {
            "text/plain": [
              "array([ 77516,  83311, 215646, ..., 207281,  46097, 206671])"
            ]
          },
          "execution_count": 14,
          "metadata": {},
          "output_type": "execute_result"
        }
      ],
      "source": [
        "df['FNLWGT'].unique()"
      ]
    },
    {
      "cell_type": "code",
      "execution_count": null,
      "id": "29bfe24d",
      "metadata": {
        "id": "29bfe24d"
      },
      "outputs": [],
      "source": [
        "df['FNLWGT']=pd.to_numeric(df['FNLWGT'])"
      ]
    },
    {
      "cell_type": "code",
      "execution_count": null,
      "id": "fab4ca9a",
      "metadata": {
        "id": "fab4ca9a",
        "outputId": "46e7186c-daf8-4d8c-b939-848e664c1155"
      },
      "outputs": [
        {
          "data": {
            "text/plain": [
              "array([' Bachelors', ' HS-grad', ' 11th', ' Masters', ' 9th',\n",
              "       ' Some-college', ' Assoc-acdm', ' Assoc-voc', ' 7th-8th',\n",
              "       ' Doctorate', ' Prof-school', ' 5th-6th', ' 10th', ' 1st-4th',\n",
              "       ' Preschool', ' 12th'], dtype=object)"
            ]
          },
          "execution_count": 16,
          "metadata": {},
          "output_type": "execute_result"
        }
      ],
      "source": [
        "df['EDUCATION'].unique()"
      ]
    },
    {
      "cell_type": "code",
      "execution_count": null,
      "id": "3be6e432",
      "metadata": {
        "id": "3be6e432"
      },
      "outputs": [],
      "source": [
        "df['EDUCATION'] = df['EDUCATION'].astype(str)"
      ]
    },
    {
      "cell_type": "code",
      "execution_count": null,
      "id": "cd0a89bb",
      "metadata": {
        "id": "cd0a89bb",
        "outputId": "081f6ced-00da-4418-d201-2805d970c396"
      },
      "outputs": [
        {
          "data": {
            "text/plain": [
              "array([' Never-married', ' Married-civ-spouse', ' Divorced',\n",
              "       ' Married-spouse-absent', ' Separated', ' Married-AF-spouse',\n",
              "       ' Widowed'], dtype=object)"
            ]
          },
          "execution_count": 18,
          "metadata": {},
          "output_type": "execute_result"
        }
      ],
      "source": [
        "df['MARITAL-STATUS'].unique()"
      ]
    },
    {
      "cell_type": "code",
      "execution_count": null,
      "id": "8cadef3e",
      "metadata": {
        "id": "8cadef3e"
      },
      "outputs": [],
      "source": [
        "df['MARITAL-STATUS'] = df['MARITAL-STATUS'].astype(str)"
      ]
    },
    {
      "cell_type": "code",
      "execution_count": null,
      "id": "b7cae675",
      "metadata": {
        "id": "b7cae675",
        "outputId": "40b47804-3cd4-4b5a-fd98-b8773b4756cc"
      },
      "outputs": [
        {
          "data": {
            "text/plain": [
              "array([' Adm-clerical', ' Exec-managerial', ' Handlers-cleaners',\n",
              "       ' Prof-specialty', ' Other-service', ' Sales', ' Craft-repair',\n",
              "       ' Transport-moving', ' Farming-fishing', ' Machine-op-inspct',\n",
              "       ' Tech-support', ' ', ' Protective-serv', ' Armed-Forces',\n",
              "       ' Priv-house-serv'], dtype=object)"
            ]
          },
          "execution_count": 20,
          "metadata": {},
          "output_type": "execute_result"
        }
      ],
      "source": [
        "df['OCCUPATION'].unique()"
      ]
    },
    {
      "cell_type": "code",
      "execution_count": null,
      "id": "bb49b1af",
      "metadata": {
        "id": "bb49b1af"
      },
      "outputs": [],
      "source": [
        "df['OCCUPATION'] = df['OCCUPATION'].astype(str)"
      ]
    },
    {
      "cell_type": "code",
      "execution_count": null,
      "id": "d0e009e4",
      "metadata": {
        "id": "d0e009e4"
      },
      "outputs": [],
      "source": [
        "df['OCCUPATION']=df['OCCUPATION'].replace(' ',np.NaN)"
      ]
    },
    {
      "cell_type": "code",
      "execution_count": null,
      "id": "b3920293",
      "metadata": {
        "id": "b3920293",
        "outputId": "3c3eada1-dfe0-4818-bfaa-7bc64e8b322b"
      },
      "outputs": [
        {
          "data": {
            "text/plain": [
              "array([' Adm-clerical', ' Exec-managerial', ' Handlers-cleaners',\n",
              "       ' Prof-specialty', ' Other-service', ' Sales', ' Craft-repair',\n",
              "       ' Transport-moving', ' Farming-fishing', ' Machine-op-inspct',\n",
              "       ' Tech-support', nan, ' Protective-serv', ' Armed-Forces',\n",
              "       ' Priv-house-serv'], dtype=object)"
            ]
          },
          "execution_count": 23,
          "metadata": {},
          "output_type": "execute_result"
        }
      ],
      "source": [
        "df['OCCUPATION'].unique()"
      ]
    },
    {
      "cell_type": "code",
      "execution_count": null,
      "id": "4b5c69f2",
      "metadata": {
        "id": "4b5c69f2",
        "outputId": "8b84dc5f-10f3-4cc2-cb45-c1ff7cc9be42"
      },
      "outputs": [
        {
          "data": {
            "text/plain": [
              "103"
            ]
          },
          "execution_count": 24,
          "metadata": {},
          "output_type": "execute_result"
        }
      ],
      "source": [
        "df['OCCUPATION'].isnull().sum()"
      ]
    },
    {
      "cell_type": "code",
      "execution_count": null,
      "id": "7718eae2",
      "metadata": {
        "id": "7718eae2",
        "outputId": "01c06008-ad56-4aa6-8e8a-f208d6c85c4a"
      },
      "outputs": [
        {
          "data": {
            "text/plain": [
              "array([' Not-in-family', ' Husband', ' Wife', ' Own-child', ' Unmarried',\n",
              "       ' Other-relative'], dtype=object)"
            ]
          },
          "execution_count": 25,
          "metadata": {},
          "output_type": "execute_result"
        }
      ],
      "source": [
        "df['RELATIONSHIP'].unique()"
      ]
    },
    {
      "cell_type": "code",
      "execution_count": null,
      "id": "0cc0c71f",
      "metadata": {
        "id": "0cc0c71f"
      },
      "outputs": [],
      "source": [
        "df['RELATIONSHIP'] = df['RELATIONSHIP'].astype(str)\n",
        "df['RELATIONSHIP']=df['RELATIONSHIP'].replace(' ',np.NaN)"
      ]
    },
    {
      "cell_type": "code",
      "execution_count": null,
      "id": "160388a6",
      "metadata": {
        "id": "160388a6",
        "outputId": "8eee75d4-217d-4b1c-a5a3-3b0669ae87bb"
      },
      "outputs": [
        {
          "data": {
            "text/plain": [
              "0"
            ]
          },
          "execution_count": 27,
          "metadata": {},
          "output_type": "execute_result"
        }
      ],
      "source": [
        "df['RELATIONSHIP'].isnull().sum()"
      ]
    },
    {
      "cell_type": "code",
      "execution_count": null,
      "id": "1530db94",
      "metadata": {
        "id": "1530db94"
      },
      "outputs": [],
      "source": [
        "df['RACE'].unique()\n",
        "df['RACE'] = df['RACE'].astype(str)\n",
        "df['RACE']=df['RACE'].replace(' ',np.NaN)"
      ]
    },
    {
      "cell_type": "code",
      "execution_count": null,
      "id": "89234f77",
      "metadata": {
        "id": "89234f77",
        "outputId": "ebae8c83-9527-4453-8fea-507fd7100a33"
      },
      "outputs": [
        {
          "data": {
            "text/plain": [
              "array([' Male', ' Female'], dtype=object)"
            ]
          },
          "execution_count": 29,
          "metadata": {},
          "output_type": "execute_result"
        }
      ],
      "source": [
        "df['SEX'].unique()"
      ]
    },
    {
      "cell_type": "code",
      "execution_count": null,
      "id": "23813925",
      "metadata": {
        "id": "23813925"
      },
      "outputs": [],
      "source": [
        "df['SEX'] = df['SEX'].astype(str)\n",
        "df['SEX']=df['SEX'].replace(' ',np.NaN)"
      ]
    },
    {
      "cell_type": "code",
      "execution_count": null,
      "id": "3b20ffce",
      "metadata": {
        "id": "3b20ffce",
        "outputId": "ae6e2750-6751-48ef-acdf-02ad80b82006"
      },
      "outputs": [
        {
          "data": {
            "text/plain": [
              "array([' United-States', ' Cuba', ' Jamaica', ' India', ' ', ' Mexico',\n",
              "       ' South', ' Puerto-Rico', ' Honduras', ' England', ' Canada',\n",
              "       ' Germany', ' Iran', ' Philippines', ' Italy', ' Poland',\n",
              "       ' Columbia', ' Cambodia', ' Thailand', ' Ecuador', ' Laos',\n",
              "       ' Taiwan', ' Haiti', ' Portugal', ' Dominican-Republic',\n",
              "       ' El-Salvador', ' France', ' Guatemala', ' China', ' Japan',\n",
              "       ' Yugoslavia', ' Peru', ' Outlying-US(Guam-USVI-etc)', ' Scotland'],\n",
              "      dtype=object)"
            ]
          },
          "execution_count": 31,
          "metadata": {},
          "output_type": "execute_result"
        }
      ],
      "source": [
        "df['NATIVE_COUNTRY'].unique()"
      ]
    },
    {
      "cell_type": "code",
      "execution_count": null,
      "id": "99619ef3",
      "metadata": {
        "id": "99619ef3"
      },
      "outputs": [],
      "source": [
        "df['NATIVE_COUNTRY'] = df['NATIVE_COUNTRY'].astype(str)\n",
        "df['NATIVE_COUNTRY']=df['NATIVE_COUNTRY'].replace(' ',np.NaN)"
      ]
    },
    {
      "cell_type": "code",
      "execution_count": null,
      "id": "821cd1c2",
      "metadata": {
        "id": "821cd1c2",
        "outputId": "c74e13a4-5cfd-401b-a0fd-78cbc2cd1f4d"
      },
      "outputs": [
        {
          "data": {
            "text/plain": [
              "32"
            ]
          },
          "execution_count": 33,
          "metadata": {},
          "output_type": "execute_result"
        }
      ],
      "source": [
        "df['NATIVE_COUNTRY'].isnull().sum()"
      ]
    },
    {
      "cell_type": "code",
      "execution_count": null,
      "id": "61b5d683",
      "metadata": {
        "id": "61b5d683",
        "outputId": "efcd94bc-a824-4c8b-c0c3-0b36a6b3189c"
      },
      "outputs": [
        {
          "data": {
            "text/plain": [
              "array([' <=50K', ' >50K'], dtype=object)"
            ]
          },
          "execution_count": 34,
          "metadata": {},
          "output_type": "execute_result"
        }
      ],
      "source": [
        "df['INCOME'].unique()"
      ]
    },
    {
      "cell_type": "code",
      "execution_count": null,
      "id": "d6e12b2b",
      "metadata": {
        "id": "d6e12b2b"
      },
      "outputs": [],
      "source": [
        "df['INCOME'] = df['INCOME'].astype(str)\n",
        "df['INCOME']=df['INCOME'].replace(' ',np.NaN)"
      ]
    },
    {
      "cell_type": "code",
      "execution_count": null,
      "id": "4b0015c7",
      "metadata": {
        "id": "4b0015c7",
        "outputId": "a4ed0501-0765-4dee-c6bd-830097c24d6e"
      },
      "outputs": [
        {
          "data": {
            "text/plain": [
              "array([13,  9,  7, 14,  5, 10, 12, 11,  4, 16, 15,  3,  6,  2,  1,  8])"
            ]
          },
          "execution_count": 36,
          "metadata": {},
          "output_type": "execute_result"
        }
      ],
      "source": [
        "df['EDUCATION_NUM'].unique()"
      ]
    },
    {
      "cell_type": "code",
      "execution_count": null,
      "id": "bac3f9c7",
      "metadata": {
        "id": "bac3f9c7",
        "outputId": "e4b9428d-76c6-47aa-b22c-d93f3aef144d"
      },
      "outputs": [
        {
          "data": {
            "text/plain": [
              "array([ 2174,     0, 14084,  5178,  5013,  2407, 14344, 15024,  7688,\n",
              "       34095,  4064,  4386,  7298,  1409,  3674,  1055,  3464,  2050,\n",
              "        2176,   594, 20051,  6849,  4101,  1111,  8614,  3411,  2597,\n",
              "       25236,  4650,  9386,  2463,  3103, 10605,  2964,  3325,  2580,\n",
              "        3471,  4865, 99999,  6514,  1471,  2329,  2105,  2885, 25124,\n",
              "       10520])"
            ]
          },
          "execution_count": 37,
          "metadata": {},
          "output_type": "execute_result"
        }
      ],
      "source": [
        "df['CAPITAL-GAIN'].unique()"
      ]
    },
    {
      "cell_type": "code",
      "execution_count": null,
      "id": "65a16a23",
      "metadata": {
        "id": "65a16a23",
        "outputId": "bd1d53e1-f502-4bb5-92a3-5ebbea9b1e42"
      },
      "outputs": [
        {
          "data": {
            "text/plain": [
              "array([   0, 2042, 1408, 1902, 1573, 1887, 1719, 1762, 1564, 2179, 1816,\n",
              "       1980, 1977, 1876, 1340, 2206, 1741, 1485, 2339, 2415, 1380, 1721,\n",
              "       2051, 2377, 1669, 2352, 1672,  653, 2392, 1504, 2001, 1590, 1651,\n",
              "       1628, 1848])"
            ]
          },
          "execution_count": 38,
          "metadata": {},
          "output_type": "execute_result"
        }
      ],
      "source": [
        "df['CAPITAL-LOSS'].unique()"
      ]
    },
    {
      "cell_type": "code",
      "execution_count": null,
      "id": "e9eded53",
      "metadata": {
        "id": "e9eded53",
        "outputId": "346aeaf8-9978-43ea-d078-5a222a421037"
      },
      "outputs": [
        {
          "data": {
            "text/plain": [
              "array([40, 13, 16, 45, 50, 80, 30, 35, 60, 20, 52, 44, 15, 25, 38, 43, 55,\n",
              "       48, 58, 32, 70,  2, 22, 56, 41, 28, 36, 24, 46, 42, 12, 65,  1, 10,\n",
              "       34, 75, 98, 33, 54,  8,  6, 64, 19, 18, 72,  5,  9, 47, 37, 21, 26,\n",
              "       14,  4, 59,  7, 99, 53, 39, 62, 57, 78, 90, 66, 11])"
            ]
          },
          "execution_count": 39,
          "metadata": {},
          "output_type": "execute_result"
        }
      ],
      "source": [
        "df['HOURS-PER-WEEK'].unique()"
      ]
    },
    {
      "cell_type": "code",
      "execution_count": null,
      "id": "c8406cf0",
      "metadata": {
        "id": "c8406cf0"
      },
      "outputs": [],
      "source": [
        "df['EDUCATION_NUM']=pd.to_numeric(df['EDUCATION_NUM'])\n",
        "df['CAPITAL-GAIN']=pd.to_numeric(df['CAPITAL-GAIN'])\n",
        "df['CAPITAL-LOSS']=pd.to_numeric(df['CAPITAL-LOSS'])\n",
        "df['HOURS-PER-WEEK']=pd.to_numeric(df['HOURS-PER-WEEK'])"
      ]
    },
    {
      "cell_type": "code",
      "execution_count": null,
      "id": "b9723159",
      "metadata": {
        "id": "b9723159",
        "outputId": "80ce0894-0c9f-4c03-def1-5d5812a0f1b6"
      },
      "outputs": [
        {
          "data": {
            "text/plain": [
              "AGE                 0\n",
              "WORKCLASS         103\n",
              "FNLWGT              0\n",
              "EDUCATION           0\n",
              "EDUCATION_NUM       0\n",
              "MARITAL-STATUS      0\n",
              "OCCUPATION        103\n",
              "RELATIONSHIP        0\n",
              "RACE                0\n",
              "SEX                 0\n",
              "CAPITAL-GAIN        0\n",
              "CAPITAL-LOSS        0\n",
              "HOURS-PER-WEEK      0\n",
              "NATIVE_COUNTRY     32\n",
              "INCOME              0\n",
              "dtype: int64"
            ]
          },
          "execution_count": 41,
          "metadata": {},
          "output_type": "execute_result"
        }
      ],
      "source": [
        "df.isnull().sum()"
      ]
    },
    {
      "cell_type": "code",
      "execution_count": null,
      "id": "c29d24f6",
      "metadata": {
        "id": "c29d24f6",
        "outputId": "8c02b65b-91e2-4c9c-f725-3638040e8c52"
      },
      "outputs": [
        {
          "data": {
            "text/plain": [
              " Private             1091\n",
              " Self-emp-not-inc     126\n",
              " Local-gov            101\n",
              " Self-emp-inc          68\n",
              " State-gov             62\n",
              " Federal-gov           42\n",
              "Name: WORKCLASS, dtype: int64"
            ]
          },
          "execution_count": 42,
          "metadata": {},
          "output_type": "execute_result"
        }
      ],
      "source": [
        "df['WORKCLASS'].value_counts()"
      ]
    },
    {
      "cell_type": "code",
      "execution_count": null,
      "id": "3b3498d1",
      "metadata": {
        "id": "3b3498d1"
      },
      "outputs": [],
      "source": [
        "most_frequent_workclass = df['WORKCLASS'].dropna().mode()[0]\n",
        "most_frequent_workclass\n",
        "df['WORKCLASS']=df['WORKCLASS'].fillna(most_frequent_workclass)"
      ]
    },
    {
      "cell_type": "code",
      "execution_count": null,
      "id": "d572052a",
      "metadata": {
        "id": "d572052a",
        "outputId": "65103871-a005-459e-c46e-b805931cccce"
      },
      "outputs": [
        {
          "data": {
            "text/plain": [
              " Private             1194\n",
              " Self-emp-not-inc     126\n",
              " Local-gov            101\n",
              " Self-emp-inc          68\n",
              " State-gov             62\n",
              " Federal-gov           42\n",
              "Name: WORKCLASS, dtype: int64"
            ]
          },
          "execution_count": 44,
          "metadata": {},
          "output_type": "execute_result"
        }
      ],
      "source": [
        "df['WORKCLASS'].value_counts()"
      ]
    },
    {
      "cell_type": "code",
      "execution_count": null,
      "id": "3fb73fed",
      "metadata": {
        "id": "3fb73fed",
        "outputId": "b1d803db-38a6-41b9-c9c4-20cda240ce0c"
      },
      "outputs": [
        {
          "data": {
            "text/plain": [
              " Prof-specialty       201\n",
              " Craft-repair         195\n",
              " Exec-managerial      188\n",
              " Other-service        176\n",
              " Adm-clerical         174\n",
              " Sales                173\n",
              " Machine-op-inspct     97\n",
              " Transport-moving      87\n",
              " Handlers-cleaners     62\n",
              " Tech-support          59\n",
              " Farming-fishing       44\n",
              " Protective-serv       28\n",
              " Priv-house-serv        4\n",
              " Armed-Forces           2\n",
              "Name: OCCUPATION, dtype: int64"
            ]
          },
          "execution_count": 45,
          "metadata": {},
          "output_type": "execute_result"
        }
      ],
      "source": [
        "df['OCCUPATION'].value_counts()"
      ]
    },
    {
      "cell_type": "code",
      "execution_count": null,
      "id": "54228360",
      "metadata": {
        "id": "54228360"
      },
      "outputs": [],
      "source": [
        "most_frequent_occupation = df['OCCUPATION'].dropna().mode()[0]\n",
        "most_frequent_occupation\n",
        "df['OCCUPATION']=df['OCCUPATION'].fillna(most_frequent_occupation)"
      ]
    },
    {
      "cell_type": "code",
      "execution_count": null,
      "id": "fc8e6840",
      "metadata": {
        "id": "fc8e6840",
        "outputId": "c03ea6f5-0d57-47bb-b6fa-cfd21df5e7db"
      },
      "outputs": [
        {
          "data": {
            "text/plain": [
              " Prof-specialty       304\n",
              " Craft-repair         195\n",
              " Exec-managerial      188\n",
              " Other-service        176\n",
              " Adm-clerical         174\n",
              " Sales                173\n",
              " Machine-op-inspct     97\n",
              " Transport-moving      87\n",
              " Handlers-cleaners     62\n",
              " Tech-support          59\n",
              " Farming-fishing       44\n",
              " Protective-serv       28\n",
              " Priv-house-serv        4\n",
              " Armed-Forces           2\n",
              "Name: OCCUPATION, dtype: int64"
            ]
          },
          "execution_count": 47,
          "metadata": {},
          "output_type": "execute_result"
        }
      ],
      "source": [
        "df['OCCUPATION'].value_counts()"
      ]
    },
    {
      "cell_type": "code",
      "execution_count": null,
      "id": "6c9a032d",
      "metadata": {
        "id": "6c9a032d",
        "outputId": "1cdcf6d4-126b-4225-9dab-4b1c7da83113"
      },
      "outputs": [
        {
          "data": {
            "text/plain": [
              " United-States                 1437\n",
              " Mexico                          29\n",
              " Germany                          7\n",
              " Canada                           6\n",
              " India                            6\n",
              " England                          5\n",
              " Iran                             5\n",
              " Philippines                      5\n",
              " Cuba                             5\n",
              " Japan                            4\n",
              " Puerto-Rico                      4\n",
              " Jamaica                          4\n",
              " China                            4\n",
              " Poland                           4\n",
              " Portugal                         4\n",
              " El-Salvador                      3\n",
              " Taiwan                           3\n",
              " Dominican-Republic               3\n",
              " Italy                            3\n",
              " South                            3\n",
              " Haiti                            2\n",
              " Thailand                         2\n",
              " Honduras                         2\n",
              " Guatemala                        2\n",
              " Yugoslavia                       1\n",
              " Peru                             1\n",
              " Outlying-US(Guam-USVI-etc)       1\n",
              " Cambodia                         1\n",
              " France                           1\n",
              " Laos                             1\n",
              " Ecuador                          1\n",
              " Columbia                         1\n",
              " Scotland                         1\n",
              "Name: NATIVE_COUNTRY, dtype: int64"
            ]
          },
          "execution_count": 48,
          "metadata": {},
          "output_type": "execute_result"
        }
      ],
      "source": [
        "df['NATIVE_COUNTRY'].value_counts()"
      ]
    },
    {
      "cell_type": "code",
      "execution_count": null,
      "id": "16a4a197",
      "metadata": {
        "id": "16a4a197"
      },
      "outputs": [],
      "source": [
        "most_frequent_nativecountry = df['NATIVE_COUNTRY'].dropna().mode()[0]\n",
        "most_frequent_nativecountry\n",
        "df['NATIVE_COUNTRY']=df['NATIVE_COUNTRY'].fillna(most_frequent_nativecountry)"
      ]
    },
    {
      "cell_type": "code",
      "execution_count": null,
      "id": "90c2906f",
      "metadata": {
        "id": "90c2906f",
        "outputId": "8239f59c-fb37-47de-89f4-c4ff6b4d56b1"
      },
      "outputs": [
        {
          "data": {
            "text/plain": [
              " United-States                 1469\n",
              " Mexico                          29\n",
              " Germany                          7\n",
              " Canada                           6\n",
              " India                            6\n",
              " England                          5\n",
              " Iran                             5\n",
              " Philippines                      5\n",
              " Cuba                             5\n",
              " Japan                            4\n",
              " Puerto-Rico                      4\n",
              " Jamaica                          4\n",
              " China                            4\n",
              " Poland                           4\n",
              " Portugal                         4\n",
              " El-Salvador                      3\n",
              " Taiwan                           3\n",
              " Dominican-Republic               3\n",
              " Italy                            3\n",
              " South                            3\n",
              " Haiti                            2\n",
              " Thailand                         2\n",
              " Honduras                         2\n",
              " Guatemala                        2\n",
              " Yugoslavia                       1\n",
              " Peru                             1\n",
              " Outlying-US(Guam-USVI-etc)       1\n",
              " Cambodia                         1\n",
              " France                           1\n",
              " Laos                             1\n",
              " Ecuador                          1\n",
              " Columbia                         1\n",
              " Scotland                         1\n",
              "Name: NATIVE_COUNTRY, dtype: int64"
            ]
          },
          "execution_count": 50,
          "metadata": {},
          "output_type": "execute_result"
        }
      ],
      "source": [
        "df['NATIVE_COUNTRY'].value_counts()"
      ]
    },
    {
      "cell_type": "code",
      "execution_count": null,
      "id": "15a88cb1",
      "metadata": {
        "id": "15a88cb1",
        "outputId": "1b468ea1-1381-4524-cf8d-239582c57b50"
      },
      "outputs": [
        {
          "data": {
            "text/plain": [
              "AGE               0\n",
              "WORKCLASS         0\n",
              "FNLWGT            0\n",
              "EDUCATION         0\n",
              "EDUCATION_NUM     0\n",
              "MARITAL-STATUS    0\n",
              "OCCUPATION        0\n",
              "RELATIONSHIP      0\n",
              "RACE              0\n",
              "SEX               0\n",
              "CAPITAL-GAIN      0\n",
              "CAPITAL-LOSS      0\n",
              "HOURS-PER-WEEK    0\n",
              "NATIVE_COUNTRY    0\n",
              "INCOME            0\n",
              "dtype: int64"
            ]
          },
          "execution_count": 51,
          "metadata": {},
          "output_type": "execute_result"
        }
      ],
      "source": [
        "df.isnull().sum()"
      ]
    },
    {
      "cell_type": "markdown",
      "id": "586e63dd",
      "metadata": {
        "id": "586e63dd"
      },
      "source": [
        "# Exploratory data analysis"
      ]
    },
    {
      "cell_type": "code",
      "execution_count": null,
      "id": "17c5e34e",
      "metadata": {
        "id": "17c5e34e",
        "outputId": "4d661623-993f-440c-c1f6-534e0adcc21e"
      },
      "outputs": [
        {
          "data": {
            "text/html": [
              "<div>\n",
              "<style scoped>\n",
              "    .dataframe tbody tr th:only-of-type {\n",
              "        vertical-align: middle;\n",
              "    }\n",
              "\n",
              "    .dataframe tbody tr th {\n",
              "        vertical-align: top;\n",
              "    }\n",
              "\n",
              "    .dataframe thead th {\n",
              "        text-align: right;\n",
              "    }\n",
              "</style>\n",
              "<table border=\"1\" class=\"dataframe\">\n",
              "  <thead>\n",
              "    <tr style=\"text-align: right;\">\n",
              "      <th></th>\n",
              "      <th>AGE</th>\n",
              "      <th>FNLWGT</th>\n",
              "      <th>EDUCATION_NUM</th>\n",
              "      <th>CAPITAL-GAIN</th>\n",
              "      <th>CAPITAL-LOSS</th>\n",
              "      <th>HOURS-PER-WEEK</th>\n",
              "    </tr>\n",
              "  </thead>\n",
              "  <tbody>\n",
              "    <tr>\n",
              "      <th>count</th>\n",
              "      <td>1593.000000</td>\n",
              "      <td>1.593000e+03</td>\n",
              "      <td>1593.000000</td>\n",
              "      <td>1593.000000</td>\n",
              "      <td>1593.000000</td>\n",
              "      <td>1593.000000</td>\n",
              "    </tr>\n",
              "    <tr>\n",
              "      <th>mean</th>\n",
              "      <td>38.708098</td>\n",
              "      <td>1.909814e+05</td>\n",
              "      <td>10.131199</td>\n",
              "      <td>842.777778</td>\n",
              "      <td>98.182674</td>\n",
              "      <td>40.349655</td>\n",
              "    </tr>\n",
              "    <tr>\n",
              "      <th>std</th>\n",
              "      <td>13.421306</td>\n",
              "      <td>1.063580e+05</td>\n",
              "      <td>2.491137</td>\n",
              "      <td>5607.220083</td>\n",
              "      <td>421.596797</td>\n",
              "      <td>12.172913</td>\n",
              "    </tr>\n",
              "    <tr>\n",
              "      <th>min</th>\n",
              "      <td>17.000000</td>\n",
              "      <td>2.117400e+04</td>\n",
              "      <td>1.000000</td>\n",
              "      <td>0.000000</td>\n",
              "      <td>0.000000</td>\n",
              "      <td>1.000000</td>\n",
              "    </tr>\n",
              "    <tr>\n",
              "      <th>25%</th>\n",
              "      <td>28.000000</td>\n",
              "      <td>1.176830e+05</td>\n",
              "      <td>9.000000</td>\n",
              "      <td>0.000000</td>\n",
              "      <td>0.000000</td>\n",
              "      <td>40.000000</td>\n",
              "    </tr>\n",
              "    <tr>\n",
              "      <th>50%</th>\n",
              "      <td>37.000000</td>\n",
              "      <td>1.803740e+05</td>\n",
              "      <td>10.000000</td>\n",
              "      <td>0.000000</td>\n",
              "      <td>0.000000</td>\n",
              "      <td>40.000000</td>\n",
              "    </tr>\n",
              "    <tr>\n",
              "      <th>75%</th>\n",
              "      <td>48.000000</td>\n",
              "      <td>2.418950e+05</td>\n",
              "      <td>12.000000</td>\n",
              "      <td>0.000000</td>\n",
              "      <td>0.000000</td>\n",
              "      <td>45.000000</td>\n",
              "    </tr>\n",
              "    <tr>\n",
              "      <th>max</th>\n",
              "      <td>90.000000</td>\n",
              "      <td>1.033222e+06</td>\n",
              "      <td>16.000000</td>\n",
              "      <td>99999.000000</td>\n",
              "      <td>2415.000000</td>\n",
              "      <td>99.000000</td>\n",
              "    </tr>\n",
              "  </tbody>\n",
              "</table>\n",
              "</div>"
            ],
            "text/plain": [
              "               AGE        FNLWGT  EDUCATION_NUM  CAPITAL-GAIN  CAPITAL-LOSS  \\\n",
              "count  1593.000000  1.593000e+03    1593.000000   1593.000000   1593.000000   \n",
              "mean     38.708098  1.909814e+05      10.131199    842.777778     98.182674   \n",
              "std      13.421306  1.063580e+05       2.491137   5607.220083    421.596797   \n",
              "min      17.000000  2.117400e+04       1.000000      0.000000      0.000000   \n",
              "25%      28.000000  1.176830e+05       9.000000      0.000000      0.000000   \n",
              "50%      37.000000  1.803740e+05      10.000000      0.000000      0.000000   \n",
              "75%      48.000000  2.418950e+05      12.000000      0.000000      0.000000   \n",
              "max      90.000000  1.033222e+06      16.000000  99999.000000   2415.000000   \n",
              "\n",
              "       HOURS-PER-WEEK  \n",
              "count     1593.000000  \n",
              "mean        40.349655  \n",
              "std         12.172913  \n",
              "min          1.000000  \n",
              "25%         40.000000  \n",
              "50%         40.000000  \n",
              "75%         45.000000  \n",
              "max         99.000000  "
            ]
          },
          "execution_count": 52,
          "metadata": {},
          "output_type": "execute_result"
        }
      ],
      "source": [
        "df.describe()"
      ]
    },
    {
      "cell_type": "code",
      "execution_count": null,
      "id": "2afc6afa",
      "metadata": {
        "id": "2afc6afa"
      },
      "outputs": [],
      "source": [
        "number_columns = df.select_dtypes(include=['int'])"
      ]
    },
    {
      "cell_type": "code",
      "execution_count": null,
      "id": "fdd7a761",
      "metadata": {
        "id": "fdd7a761",
        "outputId": "d4f7f3d6-0454-4f22-8611-f8dd055bb123"
      },
      "outputs": [
        {
          "data": {
            "text/plain": [
              "array([[<AxesSubplot:title={'center':'AGE'}>,\n",
              "        <AxesSubplot:title={'center':'FNLWGT'}>],\n",
              "       [<AxesSubplot:title={'center':'EDUCATION_NUM'}>,\n",
              "        <AxesSubplot:title={'center':'CAPITAL-GAIN'}>],\n",
              "       [<AxesSubplot:title={'center':'CAPITAL-LOSS'}>,\n",
              "        <AxesSubplot:title={'center':'HOURS-PER-WEEK'}>]], dtype=object)"
            ]
          },
          "execution_count": 54,
          "metadata": {},
          "output_type": "execute_result"
        },
        {
          "data": {
            "image/png": "[encoded data removed]",
            "text/plain": [
              "<Figure size 1440x1440 with 6 Axes>"
            ]
          },
          "metadata": {
            "needs_background": "light"
          },
          "output_type": "display_data"
        }
      ],
      "source": [
        "number_columns.hist(figsize=(20,20),color=\"green\")"
      ]
    },
    {
      "cell_type": "code",
      "execution_count": null,
      "id": "981fa9c9",
      "metadata": {
        "id": "981fa9c9",
        "outputId": "1e93bcaf-545f-4340-b3af-f2b3f95992e4"
      },
      "outputs": [
        {
          "name": "stdout",
          "output_type": "stream",
          "text": [
            "Index(['WORKCLASS', 'EDUCATION', 'MARITAL-STATUS', 'OCCUPATION',\n",
            "       'RELATIONSHIP', 'RACE', 'SEX', 'NATIVE_COUNTRY', 'INCOME'],\n",
            "      dtype='object')\n"
          ]
        }
      ],
      "source": [
        "attributes = df.select_dtypes(include=['object'])\n",
        "print(attributes.columns)"
      ]
    },
    {
      "cell_type": "markdown",
      "id": "69c475c6",
      "metadata": {
        "id": "69c475c6"
      },
      "source": [
        "#### Who makes more than 50K Men or Women?"
      ]
    },
    {
      "cell_type": "markdown",
      "id": "cffba0d5",
      "metadata": {
        "id": "cffba0d5"
      },
      "source": [
        "#### From the below graph we can say that more Men make more than 50K than women"
      ]
    },
    {
      "cell_type": "code",
      "execution_count": null,
      "id": "e8b3a77f",
      "metadata": {
        "id": "e8b3a77f",
        "outputId": "f674075b-af71-4d7a-dcf4-353a63e2c442"
      },
      "outputs": [
        {
          "data": {
            "text/plain": [
              "<AxesSubplot:xlabel='INCOME', ylabel='count'>"
            ]
          },
          "execution_count": 56,
          "metadata": {},
          "output_type": "execute_result"
        },
        {
          "data": {
            "image/png": "[encoded data removed]",
            "text/plain": [
              "<Figure size 432x288 with 1 Axes>"
            ]
          },
          "metadata": {
            "needs_background": "light"
          },
          "output_type": "display_data"
        }
      ],
      "source": [
        "sns.countplot(x='INCOME', hue='SEX', data = attributes)"
      ]
    },
    {
      "cell_type": "markdown",
      "id": "ac45871c",
      "metadata": {
        "id": "ac45871c"
      },
      "source": [
        "# Graph based on workclass and income"
      ]
    },
    {
      "cell_type": "code",
      "execution_count": null,
      "id": "f8b66bac",
      "metadata": {
        "id": "f8b66bac",
        "outputId": "0320c3ff-5530-43e7-a2f6-897e10f14a02"
      },
      "outputs": [
        {
          "data": {
            "text/plain": [
              "<AxesSubplot:xlabel='INCOME', ylabel='count'>"
            ]
          },
          "execution_count": 57,
          "metadata": {},
          "output_type": "execute_result"
        },
        {
          "data": {
            "image/png": "[encoded data removed]",
            "text/plain": [
              "<Figure size 432x288 with 1 Axes>"
            ]
          },
          "metadata": {
            "needs_background": "light"
          },
          "output_type": "display_data"
        }
      ],
      "source": [
        "sns.countplot(x='INCOME', hue='WORKCLASS', data = attributes)"
      ]
    },
    {
      "cell_type": "code",
      "execution_count": null,
      "id": "a8177f9d",
      "metadata": {
        "id": "a8177f9d",
        "outputId": "e60c1fed-f780-4b3b-948b-ddc3fa152c0a"
      },
      "outputs": [
        {
          "data": {
            "text/plain": [
              "<AxesSubplot:xlabel='count', ylabel='OCCUPATION'>"
            ]
          },
          "execution_count": 58,
          "metadata": {},
          "output_type": "execute_result"
        },
        {
          "data": {
            "image/png": "[encoded data removed]",
            "text/plain": [
              "<Figure size 432x288 with 1 Axes>"
            ]
          },
          "metadata": {
            "needs_background": "light"
          },
          "output_type": "display_data"
        }
      ],
      "source": [
        "sns.countplot(y='OCCUPATION', hue='INCOME', data = attributes)"
      ]
    },
    {
      "cell_type": "markdown",
      "id": "c562d3f3",
      "metadata": {
        "id": "c562d3f3"
      },
      "source": [
        "### Which occupation does the adults who make more than 50K belong to?"
      ]
    },
    {
      "cell_type": "markdown",
      "id": "0737b619",
      "metadata": {
        "id": "0737b619"
      },
      "source": [
        "#### From the above graph we can say that \"Exec-managerial\" and \"Prof-speciality\" are the two occupation who make more than 50K"
      ]
    },
    {
      "cell_type": "markdown",
      "id": "2b99fd87",
      "metadata": {
        "id": "2b99fd87"
      },
      "source": [
        "### Who makes more Income Men or Women?"
      ]
    },
    {
      "cell_type": "markdown",
      "id": "883da03f",
      "metadata": {
        "id": "883da03f"
      },
      "source": [
        "#### from the below graph we can say that Men make more Income than Women"
      ]
    },
    {
      "cell_type": "code",
      "execution_count": null,
      "id": "0c415fe9",
      "metadata": {
        "id": "0c415fe9",
        "outputId": "c328d67c-a36e-4073-dd2e-da2d90736860"
      },
      "outputs": [
        {
          "data": {
            "text/plain": [
              "<AxesSubplot:xlabel='SEX'>"
            ]
          },
          "execution_count": 59,
          "metadata": {},
          "output_type": "execute_result"
        },
        {
          "data": {
            "image/png": "[encoded data removed]",
            "text/plain": [
              "<Figure size 1152x432 with 1 Axes>"
            ]
          },
          "metadata": {
            "needs_background": "light"
          },
          "output_type": "display_data"
        }
      ],
      "source": [
        "fig = plt.figure(figsize = (16, 6))\n",
        "df.groupby('SEX')['INCOME'].count().plot(kind = 'bar')"
      ]
    },
    {
      "cell_type": "markdown",
      "id": "227673ea",
      "metadata": {
        "id": "227673ea"
      },
      "source": [
        "# From which country does the highest number of Adults who make 50k belong to?"
      ]
    },
    {
      "cell_type": "code",
      "execution_count": null,
      "id": "4b8002fa",
      "metadata": {
        "id": "4b8002fa",
        "outputId": "cefe6586-0715-4c37-8cee-7a064e8ceeb1"
      },
      "outputs": [
        {
          "data": {
            "text/plain": [
              "<AxesSubplot:xlabel='count', ylabel='NATIVE_COUNTRY'>"
            ]
          },
          "execution_count": 60,
          "metadata": {},
          "output_type": "execute_result"
        },
        {
          "data": {
            "image/png": "[encoded data removed]",
            "text/plain": [
              "<Figure size 432x288 with 1 Axes>"
            ]
          },
          "metadata": {
            "needs_background": "light"
          },
          "output_type": "display_data"
        }
      ],
      "source": [
        "sns.countplot(y='NATIVE_COUNTRY', hue='INCOME', data = attributes)"
      ]
    },
    {
      "cell_type": "markdown",
      "id": "45becdac",
      "metadata": {
        "id": "45becdac"
      },
      "source": [
        "# From the above graph we can see that United States makes more than 50K"
      ]
    },
    {
      "cell_type": "code",
      "execution_count": null,
      "id": "7fdcb84c",
      "metadata": {
        "id": "7fdcb84c",
        "outputId": "215c0e26-cab6-4430-b4f5-f0c1fe58d1ed"
      },
      "outputs": [
        {
          "data": {
            "text/plain": [
              "<AxesSubplot:xlabel='AGE'>"
            ]
          },
          "execution_count": 61,
          "metadata": {},
          "output_type": "execute_result"
        },
        {
          "data": {
            "image/png": "[encoded data removed]",
            "text/plain": [
              "<Figure size 432x288 with 1 Axes>"
            ]
          },
          "metadata": {
            "needs_background": "light"
          },
          "output_type": "display_data"
        }
      ],
      "source": [
        "df.groupby('AGE')['CAPITAL-GAIN'].count().plot()"
      ]
    },
    {
      "cell_type": "code",
      "execution_count": null,
      "id": "494fa8b9",
      "metadata": {
        "id": "494fa8b9",
        "outputId": "28c5c7a1-26d0-49ac-9601-3e655a78abc7"
      },
      "outputs": [
        {
          "data": {
            "text/plain": [
              "<AxesSubplot:xlabel='AGE'>"
            ]
          },
          "execution_count": 62,
          "metadata": {},
          "output_type": "execute_result"
        },
        {
          "data": {
            "image/png": "[encoded data removed]",
            "text/plain": [
              "<Figure size 432x288 with 1 Axes>"
            ]
          },
          "metadata": {
            "needs_background": "light"
          },
          "output_type": "display_data"
        }
      ],
      "source": [
        "df.groupby('AGE')['CAPITAL-LOSS'].count().plot()"
      ]
    },
    {
      "cell_type": "markdown",
      "id": "3a91aa99",
      "metadata": {
        "id": "3a91aa99"
      },
      "source": [
        "# we can drop the education and fnlwgt columns as they are irrelevant"
      ]
    },
    {
      "cell_type": "code",
      "execution_count": null,
      "id": "67cee05a",
      "metadata": {
        "id": "67cee05a"
      },
      "outputs": [],
      "source": [
        "df=df.drop('EDUCATION',axis=1)"
      ]
    },
    {
      "cell_type": "code",
      "execution_count": null,
      "id": "89a41ecc",
      "metadata": {
        "id": "89a41ecc"
      },
      "outputs": [],
      "source": [
        "df=df.drop('FNLWGT',axis=1)"
      ]
    },
    {
      "cell_type": "code",
      "execution_count": null,
      "id": "d60f1473",
      "metadata": {
        "id": "d60f1473",
        "outputId": "aa700fcb-9ba9-45cc-8707-1626542a983f"
      },
      "outputs": [
        {
          "data": {
            "text/html": [
              "<div>\n",
              "<style scoped>\n",
              "    .dataframe tbody tr th:only-of-type {\n",
              "        vertical-align: middle;\n",
              "    }\n",
              "\n",
              "    .dataframe tbody tr th {\n",
              "        vertical-align: top;\n",
              "    }\n",
              "\n",
              "    .dataframe thead th {\n",
              "        text-align: right;\n",
              "    }\n",
              "</style>\n",
              "<table border=\"1\" class=\"dataframe\">\n",
              "  <thead>\n",
              "    <tr style=\"text-align: right;\">\n",
              "      <th></th>\n",
              "      <th>AGE</th>\n",
              "      <th>WORKCLASS</th>\n",
              "      <th>EDUCATION_NUM</th>\n",
              "      <th>MARITAL-STATUS</th>\n",
              "      <th>OCCUPATION</th>\n",
              "      <th>RELATIONSHIP</th>\n",
              "      <th>RACE</th>\n",
              "      <th>SEX</th>\n",
              "      <th>CAPITAL-GAIN</th>\n",
              "      <th>CAPITAL-LOSS</th>\n",
              "      <th>HOURS-PER-WEEK</th>\n",
              "      <th>NATIVE_COUNTRY</th>\n",
              "      <th>INCOME</th>\n",
              "    </tr>\n",
              "  </thead>\n",
              "  <tbody>\n",
              "    <tr>\n",
              "      <th>0</th>\n",
              "      <td>39</td>\n",
              "      <td>State-gov</td>\n",
              "      <td>13</td>\n",
              "      <td>Never-married</td>\n",
              "      <td>Adm-clerical</td>\n",
              "      <td>Not-in-family</td>\n",
              "      <td>White</td>\n",
              "      <td>Male</td>\n",
              "      <td>2174</td>\n",
              "      <td>0</td>\n",
              "      <td>40</td>\n",
              "      <td>United-States</td>\n",
              "      <td>&lt;=50K</td>\n",
              "    </tr>\n",
              "    <tr>\n",
              "      <th>1</th>\n",
              "      <td>50</td>\n",
              "      <td>Self-emp-not-inc</td>\n",
              "      <td>13</td>\n",
              "      <td>Married-civ-spouse</td>\n",
              "      <td>Exec-managerial</td>\n",
              "      <td>Husband</td>\n",
              "      <td>White</td>\n",
              "      <td>Male</td>\n",
              "      <td>0</td>\n",
              "      <td>0</td>\n",
              "      <td>13</td>\n",
              "      <td>United-States</td>\n",
              "      <td>&lt;=50K</td>\n",
              "    </tr>\n",
              "    <tr>\n",
              "      <th>2</th>\n",
              "      <td>38</td>\n",
              "      <td>Private</td>\n",
              "      <td>9</td>\n",
              "      <td>Divorced</td>\n",
              "      <td>Handlers-cleaners</td>\n",
              "      <td>Not-in-family</td>\n",
              "      <td>White</td>\n",
              "      <td>Male</td>\n",
              "      <td>0</td>\n",
              "      <td>0</td>\n",
              "      <td>40</td>\n",
              "      <td>United-States</td>\n",
              "      <td>&lt;=50K</td>\n",
              "    </tr>\n",
              "    <tr>\n",
              "      <th>3</th>\n",
              "      <td>53</td>\n",
              "      <td>Private</td>\n",
              "      <td>7</td>\n",
              "      <td>Married-civ-spouse</td>\n",
              "      <td>Handlers-cleaners</td>\n",
              "      <td>Husband</td>\n",
              "      <td>Black</td>\n",
              "      <td>Male</td>\n",
              "      <td>0</td>\n",
              "      <td>0</td>\n",
              "      <td>40</td>\n",
              "      <td>United-States</td>\n",
              "      <td>&lt;=50K</td>\n",
              "    </tr>\n",
              "    <tr>\n",
              "      <th>4</th>\n",
              "      <td>28</td>\n",
              "      <td>Private</td>\n",
              "      <td>13</td>\n",
              "      <td>Married-civ-spouse</td>\n",
              "      <td>Prof-specialty</td>\n",
              "      <td>Wife</td>\n",
              "      <td>Black</td>\n",
              "      <td>Female</td>\n",
              "      <td>0</td>\n",
              "      <td>0</td>\n",
              "      <td>40</td>\n",
              "      <td>Cuba</td>\n",
              "      <td>&lt;=50K</td>\n",
              "    </tr>\n",
              "    <tr>\n",
              "      <th>...</th>\n",
              "      <td>...</td>\n",
              "      <td>...</td>\n",
              "      <td>...</td>\n",
              "      <td>...</td>\n",
              "      <td>...</td>\n",
              "      <td>...</td>\n",
              "      <td>...</td>\n",
              "      <td>...</td>\n",
              "      <td>...</td>\n",
              "      <td>...</td>\n",
              "      <td>...</td>\n",
              "      <td>...</td>\n",
              "      <td>...</td>\n",
              "    </tr>\n",
              "    <tr>\n",
              "      <th>1588</th>\n",
              "      <td>22</td>\n",
              "      <td>Private</td>\n",
              "      <td>9</td>\n",
              "      <td>Never-married</td>\n",
              "      <td>Exec-managerial</td>\n",
              "      <td>Own-child</td>\n",
              "      <td>White</td>\n",
              "      <td>Female</td>\n",
              "      <td>0</td>\n",
              "      <td>0</td>\n",
              "      <td>20</td>\n",
              "      <td>United-States</td>\n",
              "      <td>&lt;=50K</td>\n",
              "    </tr>\n",
              "    <tr>\n",
              "      <th>1589</th>\n",
              "      <td>23</td>\n",
              "      <td>Private</td>\n",
              "      <td>13</td>\n",
              "      <td>Never-married</td>\n",
              "      <td>Adm-clerical</td>\n",
              "      <td>Not-in-family</td>\n",
              "      <td>White</td>\n",
              "      <td>Female</td>\n",
              "      <td>0</td>\n",
              "      <td>0</td>\n",
              "      <td>40</td>\n",
              "      <td>United-States</td>\n",
              "      <td>&lt;=50K</td>\n",
              "    </tr>\n",
              "    <tr>\n",
              "      <th>1590</th>\n",
              "      <td>65</td>\n",
              "      <td>Private</td>\n",
              "      <td>10</td>\n",
              "      <td>Married-civ-spouse</td>\n",
              "      <td>Protective-serv</td>\n",
              "      <td>Husband</td>\n",
              "      <td>White</td>\n",
              "      <td>Male</td>\n",
              "      <td>0</td>\n",
              "      <td>0</td>\n",
              "      <td>16</td>\n",
              "      <td>United-States</td>\n",
              "      <td>&lt;=50K</td>\n",
              "    </tr>\n",
              "    <tr>\n",
              "      <th>1591</th>\n",
              "      <td>26</td>\n",
              "      <td>Local-gov</td>\n",
              "      <td>13</td>\n",
              "      <td>Married-civ-spouse</td>\n",
              "      <td>Prof-specialty</td>\n",
              "      <td>Husband</td>\n",
              "      <td>White</td>\n",
              "      <td>Male</td>\n",
              "      <td>0</td>\n",
              "      <td>0</td>\n",
              "      <td>40</td>\n",
              "      <td>United-States</td>\n",
              "      <td>&lt;=50K</td>\n",
              "    </tr>\n",
              "    <tr>\n",
              "      <th>1592</th>\n",
              "      <td>20</td>\n",
              "      <td>Private</td>\n",
              "      <td>10</td>\n",
              "      <td>Never-married</td>\n",
              "      <td>Prof-specialty</td>\n",
              "      <td>Own-child</td>\n",
              "      <td>White</td>\n",
              "      <td>Male</td>\n",
              "      <td>1055</td>\n",
              "      <td>0</td>\n",
              "      <td>50</td>\n",
              "      <td>United-States</td>\n",
              "      <td>&lt;=50K</td>\n",
              "    </tr>\n",
              "  </tbody>\n",
              "</table>\n",
              "<p>1593 rows × 13 columns</p>\n",
              "</div>"
            ],
            "text/plain": [
              "      AGE          WORKCLASS  EDUCATION_NUM       MARITAL-STATUS  \\\n",
              "0      39          State-gov             13        Never-married   \n",
              "1      50   Self-emp-not-inc             13   Married-civ-spouse   \n",
              "2      38            Private              9             Divorced   \n",
              "3      53            Private              7   Married-civ-spouse   \n",
              "4      28            Private             13   Married-civ-spouse   \n",
              "...   ...                ...            ...                  ...   \n",
              "1588   22            Private              9        Never-married   \n",
              "1589   23            Private             13        Never-married   \n",
              "1590   65            Private             10   Married-civ-spouse   \n",
              "1591   26          Local-gov             13   Married-civ-spouse   \n",
              "1592   20            Private             10        Never-married   \n",
              "\n",
              "              OCCUPATION    RELATIONSHIP    RACE      SEX  CAPITAL-GAIN  \\\n",
              "0           Adm-clerical   Not-in-family   White     Male          2174   \n",
              "1        Exec-managerial         Husband   White     Male             0   \n",
              "2      Handlers-cleaners   Not-in-family   White     Male             0   \n",
              "3      Handlers-cleaners         Husband   Black     Male             0   \n",
              "4         Prof-specialty            Wife   Black   Female             0   \n",
              "...                  ...             ...     ...      ...           ...   \n",
              "1588     Exec-managerial       Own-child   White   Female             0   \n",
              "1589        Adm-clerical   Not-in-family   White   Female             0   \n",
              "1590     Protective-serv         Husband   White     Male             0   \n",
              "1591      Prof-specialty         Husband   White     Male             0   \n",
              "1592      Prof-specialty       Own-child   White     Male          1055   \n",
              "\n",
              "      CAPITAL-LOSS  HOURS-PER-WEEK  NATIVE_COUNTRY  INCOME  \n",
              "0                0              40   United-States   <=50K  \n",
              "1                0              13   United-States   <=50K  \n",
              "2                0              40   United-States   <=50K  \n",
              "3                0              40   United-States   <=50K  \n",
              "4                0              40            Cuba   <=50K  \n",
              "...            ...             ...             ...     ...  \n",
              "1588             0              20   United-States   <=50K  \n",
              "1589             0              40   United-States   <=50K  \n",
              "1590             0              16   United-States   <=50K  \n",
              "1591             0              40   United-States   <=50K  \n",
              "1592             0              50   United-States   <=50K  \n",
              "\n",
              "[1593 rows x 13 columns]"
            ]
          },
          "execution_count": 65,
          "metadata": {},
          "output_type": "execute_result"
        }
      ],
      "source": [
        "df"
      ]
    },
    {
      "cell_type": "markdown",
      "id": "b82b54fe",
      "metadata": {
        "id": "b82b54fe"
      },
      "source": [
        "# Scatter plot for age for hour-per-week"
      ]
    },
    {
      "cell_type": "code",
      "execution_count": null,
      "id": "1c56de24",
      "metadata": {
        "id": "1c56de24",
        "outputId": "2947109f-e201-4a14-a1f7-2e9aa55408ff"
      },
      "outputs": [
        {
          "data": {
            "image/png": "[encoded data removed]",
            "text/plain": [
              "<Figure size 432x288 with 1 Axes>"
            ]
          },
          "metadata": {
            "needs_background": "light"
          },
          "output_type": "display_data"
        }
      ],
      "source": [
        "plt.scatter(df['AGE'], df['HOURS-PER-WEEK'])\n",
        "plt.show()"
      ]
    },
    {
      "cell_type": "code",
      "execution_count": null,
      "id": "23432b20",
      "metadata": {
        "id": "23432b20",
        "outputId": "bfd4f0a5-b883-42a1-91b9-2fa89da62675"
      },
      "outputs": [
        {
          "data": {
            "text/html": [
              "<div>\n",
              "<style scoped>\n",
              "    .dataframe tbody tr th:only-of-type {\n",
              "        vertical-align: middle;\n",
              "    }\n",
              "\n",
              "    .dataframe tbody tr th {\n",
              "        vertical-align: top;\n",
              "    }\n",
              "\n",
              "    .dataframe thead th {\n",
              "        text-align: right;\n",
              "    }\n",
              "</style>\n",
              "<table border=\"1\" class=\"dataframe\">\n",
              "  <thead>\n",
              "    <tr style=\"text-align: right;\">\n",
              "      <th></th>\n",
              "      <th>AGE</th>\n",
              "      <th>WORKCLASS</th>\n",
              "      <th>EDUCATION_NUM</th>\n",
              "      <th>MARITAL-STATUS</th>\n",
              "      <th>OCCUPATION</th>\n",
              "      <th>RELATIONSHIP</th>\n",
              "      <th>RACE</th>\n",
              "      <th>SEX</th>\n",
              "      <th>CAPITAL-GAIN</th>\n",
              "      <th>CAPITAL-LOSS</th>\n",
              "      <th>HOURS-PER-WEEK</th>\n",
              "      <th>NATIVE_COUNTRY</th>\n",
              "      <th>INCOME</th>\n",
              "    </tr>\n",
              "  </thead>\n",
              "  <tbody>\n",
              "    <tr>\n",
              "      <th>0</th>\n",
              "      <td>39</td>\n",
              "      <td>State-gov</td>\n",
              "      <td>13</td>\n",
              "      <td>Never-married</td>\n",
              "      <td>Adm-clerical</td>\n",
              "      <td>Not-in-family</td>\n",
              "      <td>White</td>\n",
              "      <td>Male</td>\n",
              "      <td>2174</td>\n",
              "      <td>0</td>\n",
              "      <td>40</td>\n",
              "      <td>United-States</td>\n",
              "      <td>&lt;=50K</td>\n",
              "    </tr>\n",
              "    <tr>\n",
              "      <th>1</th>\n",
              "      <td>50</td>\n",
              "      <td>Self-emp-not-inc</td>\n",
              "      <td>13</td>\n",
              "      <td>Married-civ-spouse</td>\n",
              "      <td>Exec-managerial</td>\n",
              "      <td>Husband</td>\n",
              "      <td>White</td>\n",
              "      <td>Male</td>\n",
              "      <td>0</td>\n",
              "      <td>0</td>\n",
              "      <td>13</td>\n",
              "      <td>United-States</td>\n",
              "      <td>&lt;=50K</td>\n",
              "    </tr>\n",
              "    <tr>\n",
              "      <th>2</th>\n",
              "      <td>38</td>\n",
              "      <td>Private</td>\n",
              "      <td>9</td>\n",
              "      <td>Divorced</td>\n",
              "      <td>Handlers-cleaners</td>\n",
              "      <td>Not-in-family</td>\n",
              "      <td>White</td>\n",
              "      <td>Male</td>\n",
              "      <td>0</td>\n",
              "      <td>0</td>\n",
              "      <td>40</td>\n",
              "      <td>United-States</td>\n",
              "      <td>&lt;=50K</td>\n",
              "    </tr>\n",
              "    <tr>\n",
              "      <th>3</th>\n",
              "      <td>53</td>\n",
              "      <td>Private</td>\n",
              "      <td>7</td>\n",
              "      <td>Married-civ-spouse</td>\n",
              "      <td>Handlers-cleaners</td>\n",
              "      <td>Husband</td>\n",
              "      <td>Black</td>\n",
              "      <td>Male</td>\n",
              "      <td>0</td>\n",
              "      <td>0</td>\n",
              "      <td>40</td>\n",
              "      <td>United-States</td>\n",
              "      <td>&lt;=50K</td>\n",
              "    </tr>\n",
              "    <tr>\n",
              "      <th>4</th>\n",
              "      <td>28</td>\n",
              "      <td>Private</td>\n",
              "      <td>13</td>\n",
              "      <td>Married-civ-spouse</td>\n",
              "      <td>Prof-specialty</td>\n",
              "      <td>Wife</td>\n",
              "      <td>Black</td>\n",
              "      <td>Female</td>\n",
              "      <td>0</td>\n",
              "      <td>0</td>\n",
              "      <td>40</td>\n",
              "      <td>Cuba</td>\n",
              "      <td>&lt;=50K</td>\n",
              "    </tr>\n",
              "    <tr>\n",
              "      <th>...</th>\n",
              "      <td>...</td>\n",
              "      <td>...</td>\n",
              "      <td>...</td>\n",
              "      <td>...</td>\n",
              "      <td>...</td>\n",
              "      <td>...</td>\n",
              "      <td>...</td>\n",
              "      <td>...</td>\n",
              "      <td>...</td>\n",
              "      <td>...</td>\n",
              "      <td>...</td>\n",
              "      <td>...</td>\n",
              "      <td>...</td>\n",
              "    </tr>\n",
              "    <tr>\n",
              "      <th>1588</th>\n",
              "      <td>22</td>\n",
              "      <td>Private</td>\n",
              "      <td>9</td>\n",
              "      <td>Never-married</td>\n",
              "      <td>Exec-managerial</td>\n",
              "      <td>Own-child</td>\n",
              "      <td>White</td>\n",
              "      <td>Female</td>\n",
              "      <td>0</td>\n",
              "      <td>0</td>\n",
              "      <td>20</td>\n",
              "      <td>United-States</td>\n",
              "      <td>&lt;=50K</td>\n",
              "    </tr>\n",
              "    <tr>\n",
              "      <th>1589</th>\n",
              "      <td>23</td>\n",
              "      <td>Private</td>\n",
              "      <td>13</td>\n",
              "      <td>Never-married</td>\n",
              "      <td>Adm-clerical</td>\n",
              "      <td>Not-in-family</td>\n",
              "      <td>White</td>\n",
              "      <td>Female</td>\n",
              "      <td>0</td>\n",
              "      <td>0</td>\n",
              "      <td>40</td>\n",
              "      <td>United-States</td>\n",
              "      <td>&lt;=50K</td>\n",
              "    </tr>\n",
              "    <tr>\n",
              "      <th>1590</th>\n",
              "      <td>65</td>\n",
              "      <td>Private</td>\n",
              "      <td>10</td>\n",
              "      <td>Married-civ-spouse</td>\n",
              "      <td>Protective-serv</td>\n",
              "      <td>Husband</td>\n",
              "      <td>White</td>\n",
              "      <td>Male</td>\n",
              "      <td>0</td>\n",
              "      <td>0</td>\n",
              "      <td>16</td>\n",
              "      <td>United-States</td>\n",
              "      <td>&lt;=50K</td>\n",
              "    </tr>\n",
              "    <tr>\n",
              "      <th>1591</th>\n",
              "      <td>26</td>\n",
              "      <td>Local-gov</td>\n",
              "      <td>13</td>\n",
              "      <td>Married-civ-spouse</td>\n",
              "      <td>Prof-specialty</td>\n",
              "      <td>Husband</td>\n",
              "      <td>White</td>\n",
              "      <td>Male</td>\n",
              "      <td>0</td>\n",
              "      <td>0</td>\n",
              "      <td>40</td>\n",
              "      <td>United-States</td>\n",
              "      <td>&lt;=50K</td>\n",
              "    </tr>\n",
              "    <tr>\n",
              "      <th>1592</th>\n",
              "      <td>20</td>\n",
              "      <td>Private</td>\n",
              "      <td>10</td>\n",
              "      <td>Never-married</td>\n",
              "      <td>Prof-specialty</td>\n",
              "      <td>Own-child</td>\n",
              "      <td>White</td>\n",
              "      <td>Male</td>\n",
              "      <td>1055</td>\n",
              "      <td>0</td>\n",
              "      <td>50</td>\n",
              "      <td>United-States</td>\n",
              "      <td>&lt;=50K</td>\n",
              "    </tr>\n",
              "  </tbody>\n",
              "</table>\n",
              "<p>1593 rows × 13 columns</p>\n",
              "</div>"
            ],
            "text/plain": [
              "      AGE          WORKCLASS  EDUCATION_NUM       MARITAL-STATUS  \\\n",
              "0      39          State-gov             13        Never-married   \n",
              "1      50   Self-emp-not-inc             13   Married-civ-spouse   \n",
              "2      38            Private              9             Divorced   \n",
              "3      53            Private              7   Married-civ-spouse   \n",
              "4      28            Private             13   Married-civ-spouse   \n",
              "...   ...                ...            ...                  ...   \n",
              "1588   22            Private              9        Never-married   \n",
              "1589   23            Private             13        Never-married   \n",
              "1590   65            Private             10   Married-civ-spouse   \n",
              "1591   26          Local-gov             13   Married-civ-spouse   \n",
              "1592   20            Private             10        Never-married   \n",
              "\n",
              "              OCCUPATION    RELATIONSHIP    RACE      SEX  CAPITAL-GAIN  \\\n",
              "0           Adm-clerical   Not-in-family   White     Male          2174   \n",
              "1        Exec-managerial         Husband   White     Male             0   \n",
              "2      Handlers-cleaners   Not-in-family   White     Male             0   \n",
              "3      Handlers-cleaners         Husband   Black     Male             0   \n",
              "4         Prof-specialty            Wife   Black   Female             0   \n",
              "...                  ...             ...     ...      ...           ...   \n",
              "1588     Exec-managerial       Own-child   White   Female             0   \n",
              "1589        Adm-clerical   Not-in-family   White   Female             0   \n",
              "1590     Protective-serv         Husband   White     Male             0   \n",
              "1591      Prof-specialty         Husband   White     Male             0   \n",
              "1592      Prof-specialty       Own-child   White     Male          1055   \n",
              "\n",
              "      CAPITAL-LOSS  HOURS-PER-WEEK  NATIVE_COUNTRY  INCOME  \n",
              "0                0              40   United-States   <=50K  \n",
              "1                0              13   United-States   <=50K  \n",
              "2                0              40   United-States   <=50K  \n",
              "3                0              40   United-States   <=50K  \n",
              "4                0              40            Cuba   <=50K  \n",
              "...            ...             ...             ...     ...  \n",
              "1588             0              20   United-States   <=50K  \n",
              "1589             0              40   United-States   <=50K  \n",
              "1590             0              16   United-States   <=50K  \n",
              "1591             0              40   United-States   <=50K  \n",
              "1592             0              50   United-States   <=50K  \n",
              "\n",
              "[1593 rows x 13 columns]"
            ]
          },
          "execution_count": 67,
          "metadata": {},
          "output_type": "execute_result"
        }
      ],
      "source": [
        "df"
      ]
    },
    {
      "cell_type": "markdown",
      "id": "783cbaf8",
      "metadata": {
        "id": "783cbaf8"
      },
      "source": [
        "# Correlation Matrix"
      ]
    },
    {
      "cell_type": "code",
      "execution_count": null,
      "id": "7dbf3772",
      "metadata": {
        "id": "7dbf3772",
        "outputId": "ccea6275-e59a-4662-f3eb-355fa9d32d5c"
      },
      "outputs": [
        {
          "name": "stderr",
          "output_type": "stream",
          "text": [
            "No artists with labels found to put in legend.  Note that artists whose label start with an underscore are ignored when legend() is called with no argument.\n"
          ]
        },
        {
          "data": {
            "text/plain": [
              "<matplotlib.legend.Legend at 0x7fdc00397760>"
            ]
          },
          "execution_count": 68,
          "metadata": {},
          "output_type": "execute_result"
        },
        {
          "data": {
            "image/png": "[encoded data removed]",
            "text/plain": [
              "<Figure size 864x720 with 2 Axes>"
            ]
          },
          "metadata": {
            "needs_background": "light"
          },
          "output_type": "display_data"
        }
      ],
      "source": [
        "plt.figure(figsize = (12,10))\n",
        "plt.title(\"Correlation between different features of the dataset\", fontsize = 18, fontweight = 'bold')\n",
        "sns.heatmap(df.corr(), cmap = 'Greens_r', annot = True)\n",
        "plt.xticks(fontsize=12, rotation = 90)\n",
        "plt.yticks(fontsize=12, rotation = 90)\n",
        "plt.legend(fontsize=12)"
      ]
    },
    {
      "cell_type": "code",
      "execution_count": null,
      "id": "0b2ae801",
      "metadata": {
        "id": "0b2ae801"
      },
      "outputs": [],
      "source": [
        "y= df['INCOME']"
      ]
    },
    {
      "cell_type": "code",
      "execution_count": null,
      "id": "a8518e01",
      "metadata": {
        "id": "a8518e01"
      },
      "outputs": [],
      "source": [
        "X = df[['AGE', 'WORKCLASS', 'EDUCATION_NUM','MARITAL-STATUS', 'OCCUPATION','RELATIONSHIP', 'RACE', 'SEX','CAPITAL-GAIN', 'CAPITAL-LOSS', 'HOURS-PER-WEEK', 'NATIVE_COUNTRY']]"
      ]
    },
    {
      "cell_type": "code",
      "execution_count": null,
      "id": "2d1c2e38",
      "metadata": {
        "id": "2d1c2e38"
      },
      "outputs": [],
      "source": [
        "X= pd.get_dummies(X)"
      ]
    },
    {
      "cell_type": "code",
      "execution_count": null,
      "id": "4c0a7763",
      "metadata": {
        "id": "4c0a7763",
        "outputId": "18c3b438-53f7-433e-f542-6c7aeedbeb2a"
      },
      "outputs": [
        {
          "data": {
            "text/html": [
              "<div>\n",
              "<style scoped>\n",
              "    .dataframe tbody tr th:only-of-type {\n",
              "        vertical-align: middle;\n",
              "    }\n",
              "\n",
              "    .dataframe tbody tr th {\n",
              "        vertical-align: top;\n",
              "    }\n",
              "\n",
              "    .dataframe thead th {\n",
              "        text-align: right;\n",
              "    }\n",
              "</style>\n",
              "<table border=\"1\" class=\"dataframe\">\n",
              "  <thead>\n",
              "    <tr style=\"text-align: right;\">\n",
              "      <th></th>\n",
              "      <th>AGE</th>\n",
              "      <th>EDUCATION_NUM</th>\n",
              "      <th>CAPITAL-GAIN</th>\n",
              "      <th>CAPITAL-LOSS</th>\n",
              "      <th>HOURS-PER-WEEK</th>\n",
              "      <th>WORKCLASS_ Federal-gov</th>\n",
              "      <th>WORKCLASS_ Local-gov</th>\n",
              "      <th>WORKCLASS_ Private</th>\n",
              "      <th>WORKCLASS_ Self-emp-inc</th>\n",
              "      <th>WORKCLASS_ Self-emp-not-inc</th>\n",
              "      <th>...</th>\n",
              "      <th>NATIVE_COUNTRY_ Philippines</th>\n",
              "      <th>NATIVE_COUNTRY_ Poland</th>\n",
              "      <th>NATIVE_COUNTRY_ Portugal</th>\n",
              "      <th>NATIVE_COUNTRY_ Puerto-Rico</th>\n",
              "      <th>NATIVE_COUNTRY_ Scotland</th>\n",
              "      <th>NATIVE_COUNTRY_ South</th>\n",
              "      <th>NATIVE_COUNTRY_ Taiwan</th>\n",
              "      <th>NATIVE_COUNTRY_ Thailand</th>\n",
              "      <th>NATIVE_COUNTRY_ United-States</th>\n",
              "      <th>NATIVE_COUNTRY_ Yugoslavia</th>\n",
              "    </tr>\n",
              "  </thead>\n",
              "  <tbody>\n",
              "    <tr>\n",
              "      <th>0</th>\n",
              "      <td>39</td>\n",
              "      <td>13</td>\n",
              "      <td>2174</td>\n",
              "      <td>0</td>\n",
              "      <td>40</td>\n",
              "      <td>0</td>\n",
              "      <td>0</td>\n",
              "      <td>0</td>\n",
              "      <td>0</td>\n",
              "      <td>0</td>\n",
              "      <td>...</td>\n",
              "      <td>0</td>\n",
              "      <td>0</td>\n",
              "      <td>0</td>\n",
              "      <td>0</td>\n",
              "      <td>0</td>\n",
              "      <td>0</td>\n",
              "      <td>0</td>\n",
              "      <td>0</td>\n",
              "      <td>1</td>\n",
              "      <td>0</td>\n",
              "    </tr>\n",
              "    <tr>\n",
              "      <th>1</th>\n",
              "      <td>50</td>\n",
              "      <td>13</td>\n",
              "      <td>0</td>\n",
              "      <td>0</td>\n",
              "      <td>13</td>\n",
              "      <td>0</td>\n",
              "      <td>0</td>\n",
              "      <td>0</td>\n",
              "      <td>0</td>\n",
              "      <td>1</td>\n",
              "      <td>...</td>\n",
              "      <td>0</td>\n",
              "      <td>0</td>\n",
              "      <td>0</td>\n",
              "      <td>0</td>\n",
              "      <td>0</td>\n",
              "      <td>0</td>\n",
              "      <td>0</td>\n",
              "      <td>0</td>\n",
              "      <td>1</td>\n",
              "      <td>0</td>\n",
              "    </tr>\n",
              "    <tr>\n",
              "      <th>2</th>\n",
              "      <td>38</td>\n",
              "      <td>9</td>\n",
              "      <td>0</td>\n",
              "      <td>0</td>\n",
              "      <td>40</td>\n",
              "      <td>0</td>\n",
              "      <td>0</td>\n",
              "      <td>1</td>\n",
              "      <td>0</td>\n",
              "      <td>0</td>\n",
              "      <td>...</td>\n",
              "      <td>0</td>\n",
              "      <td>0</td>\n",
              "      <td>0</td>\n",
              "      <td>0</td>\n",
              "      <td>0</td>\n",
              "      <td>0</td>\n",
              "      <td>0</td>\n",
              "      <td>0</td>\n",
              "      <td>1</td>\n",
              "      <td>0</td>\n",
              "    </tr>\n",
              "    <tr>\n",
              "      <th>3</th>\n",
              "      <td>53</td>\n",
              "      <td>7</td>\n",
              "      <td>0</td>\n",
              "      <td>0</td>\n",
              "      <td>40</td>\n",
              "      <td>0</td>\n",
              "      <td>0</td>\n",
              "      <td>1</td>\n",
              "      <td>0</td>\n",
              "      <td>0</td>\n",
              "      <td>...</td>\n",
              "      <td>0</td>\n",
              "      <td>0</td>\n",
              "      <td>0</td>\n",
              "      <td>0</td>\n",
              "      <td>0</td>\n",
              "      <td>0</td>\n",
              "      <td>0</td>\n",
              "      <td>0</td>\n",
              "      <td>1</td>\n",
              "      <td>0</td>\n",
              "    </tr>\n",
              "    <tr>\n",
              "      <th>4</th>\n",
              "      <td>28</td>\n",
              "      <td>13</td>\n",
              "      <td>0</td>\n",
              "      <td>0</td>\n",
              "      <td>40</td>\n",
              "      <td>0</td>\n",
              "      <td>0</td>\n",
              "      <td>1</td>\n",
              "      <td>0</td>\n",
              "      <td>0</td>\n",
              "      <td>...</td>\n",
              "      <td>0</td>\n",
              "      <td>0</td>\n",
              "      <td>0</td>\n",
              "      <td>0</td>\n",
              "      <td>0</td>\n",
              "      <td>0</td>\n",
              "      <td>0</td>\n",
              "      <td>0</td>\n",
              "      <td>0</td>\n",
              "      <td>0</td>\n",
              "    </tr>\n",
              "    <tr>\n",
              "      <th>...</th>\n",
              "      <td>...</td>\n",
              "      <td>...</td>\n",
              "      <td>...</td>\n",
              "      <td>...</td>\n",
              "      <td>...</td>\n",
              "      <td>...</td>\n",
              "      <td>...</td>\n",
              "      <td>...</td>\n",
              "      <td>...</td>\n",
              "      <td>...</td>\n",
              "      <td>...</td>\n",
              "      <td>...</td>\n",
              "      <td>...</td>\n",
              "      <td>...</td>\n",
              "      <td>...</td>\n",
              "      <td>...</td>\n",
              "      <td>...</td>\n",
              "      <td>...</td>\n",
              "      <td>...</td>\n",
              "      <td>...</td>\n",
              "      <td>...</td>\n",
              "    </tr>\n",
              "    <tr>\n",
              "      <th>1588</th>\n",
              "      <td>22</td>\n",
              "      <td>9</td>\n",
              "      <td>0</td>\n",
              "      <td>0</td>\n",
              "      <td>20</td>\n",
              "      <td>0</td>\n",
              "      <td>0</td>\n",
              "      <td>1</td>\n",
              "      <td>0</td>\n",
              "      <td>0</td>\n",
              "      <td>...</td>\n",
              "      <td>0</td>\n",
              "      <td>0</td>\n",
              "      <td>0</td>\n",
              "      <td>0</td>\n",
              "      <td>0</td>\n",
              "      <td>0</td>\n",
              "      <td>0</td>\n",
              "      <td>0</td>\n",
              "      <td>1</td>\n",
              "      <td>0</td>\n",
              "    </tr>\n",
              "    <tr>\n",
              "      <th>1589</th>\n",
              "      <td>23</td>\n",
              "      <td>13</td>\n",
              "      <td>0</td>\n",
              "      <td>0</td>\n",
              "      <td>40</td>\n",
              "      <td>0</td>\n",
              "      <td>0</td>\n",
              "      <td>1</td>\n",
              "      <td>0</td>\n",
              "      <td>0</td>\n",
              "      <td>...</td>\n",
              "      <td>0</td>\n",
              "      <td>0</td>\n",
              "      <td>0</td>\n",
              "      <td>0</td>\n",
              "      <td>0</td>\n",
              "      <td>0</td>\n",
              "      <td>0</td>\n",
              "      <td>0</td>\n",
              "      <td>1</td>\n",
              "      <td>0</td>\n",
              "    </tr>\n",
              "    <tr>\n",
              "      <th>1590</th>\n",
              "      <td>65</td>\n",
              "      <td>10</td>\n",
              "      <td>0</td>\n",
              "      <td>0</td>\n",
              "      <td>16</td>\n",
              "      <td>0</td>\n",
              "      <td>0</td>\n",
              "      <td>1</td>\n",
              "      <td>0</td>\n",
              "      <td>0</td>\n",
              "      <td>...</td>\n",
              "      <td>0</td>\n",
              "      <td>0</td>\n",
              "      <td>0</td>\n",
              "      <td>0</td>\n",
              "      <td>0</td>\n",
              "      <td>0</td>\n",
              "      <td>0</td>\n",
              "      <td>0</td>\n",
              "      <td>1</td>\n",
              "      <td>0</td>\n",
              "    </tr>\n",
              "    <tr>\n",
              "      <th>1591</th>\n",
              "      <td>26</td>\n",
              "      <td>13</td>\n",
              "      <td>0</td>\n",
              "      <td>0</td>\n",
              "      <td>40</td>\n",
              "      <td>0</td>\n",
              "      <td>1</td>\n",
              "      <td>0</td>\n",
              "      <td>0</td>\n",
              "      <td>0</td>\n",
              "      <td>...</td>\n",
              "      <td>0</td>\n",
              "      <td>0</td>\n",
              "      <td>0</td>\n",
              "      <td>0</td>\n",
              "      <td>0</td>\n",
              "      <td>0</td>\n",
              "      <td>0</td>\n",
              "      <td>0</td>\n",
              "      <td>1</td>\n",
              "      <td>0</td>\n",
              "    </tr>\n",
              "    <tr>\n",
              "      <th>1592</th>\n",
              "      <td>20</td>\n",
              "      <td>10</td>\n",
              "      <td>1055</td>\n",
              "      <td>0</td>\n",
              "      <td>50</td>\n",
              "      <td>0</td>\n",
              "      <td>0</td>\n",
              "      <td>1</td>\n",
              "      <td>0</td>\n",
              "      <td>0</td>\n",
              "      <td>...</td>\n",
              "      <td>0</td>\n",
              "      <td>0</td>\n",
              "      <td>0</td>\n",
              "      <td>0</td>\n",
              "      <td>0</td>\n",
              "      <td>0</td>\n",
              "      <td>0</td>\n",
              "      <td>0</td>\n",
              "      <td>1</td>\n",
              "      <td>0</td>\n",
              "    </tr>\n",
              "  </tbody>\n",
              "</table>\n",
              "<p>1593 rows × 78 columns</p>\n",
              "</div>"
            ],
            "text/plain": [
              "      AGE  EDUCATION_NUM  CAPITAL-GAIN  CAPITAL-LOSS  HOURS-PER-WEEK  \\\n",
              "0      39             13          2174             0              40   \n",
              "1      50             13             0             0              13   \n",
              "2      38              9             0             0              40   \n",
              "3      53              7             0             0              40   \n",
              "4      28             13             0             0              40   \n",
              "...   ...            ...           ...           ...             ...   \n",
              "1588   22              9             0             0              20   \n",
              "1589   23             13             0             0              40   \n",
              "1590   65             10             0             0              16   \n",
              "1591   26             13             0             0              40   \n",
              "1592   20             10          1055             0              50   \n",
              "\n",
              "      WORKCLASS_ Federal-gov  WORKCLASS_ Local-gov  WORKCLASS_ Private  \\\n",
              "0                          0                     0                   0   \n",
              "1                          0                     0                   0   \n",
              "2                          0                     0                   1   \n",
              "3                          0                     0                   1   \n",
              "4                          0                     0                   1   \n",
              "...                      ...                   ...                 ...   \n",
              "1588                       0                     0                   1   \n",
              "1589                       0                     0                   1   \n",
              "1590                       0                     0                   1   \n",
              "1591                       0                     1                   0   \n",
              "1592                       0                     0                   1   \n",
              "\n",
              "      WORKCLASS_ Self-emp-inc  WORKCLASS_ Self-emp-not-inc  ...  \\\n",
              "0                           0                            0  ...   \n",
              "1                           0                            1  ...   \n",
              "2                           0                            0  ...   \n",
              "3                           0                            0  ...   \n",
              "4                           0                            0  ...   \n",
              "...                       ...                          ...  ...   \n",
              "1588                        0                            0  ...   \n",
              "1589                        0                            0  ...   \n",
              "1590                        0                            0  ...   \n",
              "1591                        0                            0  ...   \n",
              "1592                        0                            0  ...   \n",
              "\n",
              "      NATIVE_COUNTRY_ Philippines  NATIVE_COUNTRY_ Poland  \\\n",
              "0                               0                       0   \n",
              "1                               0                       0   \n",
              "2                               0                       0   \n",
              "3                               0                       0   \n",
              "4                               0                       0   \n",
              "...                           ...                     ...   \n",
              "1588                            0                       0   \n",
              "1589                            0                       0   \n",
              "1590                            0                       0   \n",
              "1591                            0                       0   \n",
              "1592                            0                       0   \n",
              "\n",
              "      NATIVE_COUNTRY_ Portugal  NATIVE_COUNTRY_ Puerto-Rico  \\\n",
              "0                            0                            0   \n",
              "1                            0                            0   \n",
              "2                            0                            0   \n",
              "3                            0                            0   \n",
              "4                            0                            0   \n",
              "...                        ...                          ...   \n",
              "1588                         0                            0   \n",
              "1589                         0                            0   \n",
              "1590                         0                            0   \n",
              "1591                         0                            0   \n",
              "1592                         0                            0   \n",
              "\n",
              "      NATIVE_COUNTRY_ Scotland  NATIVE_COUNTRY_ South  NATIVE_COUNTRY_ Taiwan  \\\n",
              "0                            0                      0                       0   \n",
              "1                            0                      0                       0   \n",
              "2                            0                      0                       0   \n",
              "3                            0                      0                       0   \n",
              "4                            0                      0                       0   \n",
              "...                        ...                    ...                     ...   \n",
              "1588                         0                      0                       0   \n",
              "1589                         0                      0                       0   \n",
              "1590                         0                      0                       0   \n",
              "1591                         0                      0                       0   \n",
              "1592                         0                      0                       0   \n",
              "\n",
              "      NATIVE_COUNTRY_ Thailand  NATIVE_COUNTRY_ United-States  \\\n",
              "0                            0                              1   \n",
              "1                            0                              1   \n",
              "2                            0                              1   \n",
              "3                            0                              1   \n",
              "4                            0                              0   \n",
              "...                        ...                            ...   \n",
              "1588                         0                              1   \n",
              "1589                         0                              1   \n",
              "1590                         0                              1   \n",
              "1591                         0                              1   \n",
              "1592                         0                              1   \n",
              "\n",
              "      NATIVE_COUNTRY_ Yugoslavia  \n",
              "0                              0  \n",
              "1                              0  \n",
              "2                              0  \n",
              "3                              0  \n",
              "4                              0  \n",
              "...                          ...  \n",
              "1588                           0  \n",
              "1589                           0  \n",
              "1590                           0  \n",
              "1591                           0  \n",
              "1592                           0  \n",
              "\n",
              "[1593 rows x 78 columns]"
            ]
          },
          "execution_count": 72,
          "metadata": {},
          "output_type": "execute_result"
        }
      ],
      "source": [
        "X"
      ]
    },
    {
      "cell_type": "markdown",
      "id": "e20c25d4",
      "metadata": {
        "id": "e20c25d4"
      },
      "source": [
        "# Transform data"
      ]
    },
    {
      "cell_type": "code",
      "execution_count": null,
      "id": "1cf216b7",
      "metadata": {
        "id": "1cf216b7"
      },
      "outputs": [],
      "source": [
        "from sklearn.model_selection import train_test_split\n",
        "x_train, x_test, y_train, y_test  = train_test_split(X,y, test_size = 0.2, random_state = 0)"
      ]
    },
    {
      "cell_type": "markdown",
      "id": "56d874cb",
      "metadata": {
        "id": "56d874cb"
      },
      "source": [
        "# Decision Tree Classifier"
      ]
    },
    {
      "cell_type": "code",
      "execution_count": null,
      "id": "241c5fa5",
      "metadata": {
        "id": "241c5fa5"
      },
      "outputs": [],
      "source": [
        "from sklearn.tree import DecisionTreeClassifier\n",
        "# Create Decision Tree classifer object\n",
        "clf = DecisionTreeClassifier()\n",
        "\n",
        "# Train Decision Tree Classifer\n",
        "clf = clf.fit(x_train,y_train)\n"
      ]
    },
    {
      "cell_type": "code",
      "execution_count": null,
      "id": "2b65b7da",
      "metadata": {
        "id": "2b65b7da",
        "outputId": "080e25d6-e158-4796-bc53-1f985acbaa06"
      },
      "outputs": [
        {
          "data": {
            "text/html": [
              "<div>\n",
              "<style scoped>\n",
              "    .dataframe tbody tr th:only-of-type {\n",
              "        vertical-align: middle;\n",
              "    }\n",
              "\n",
              "    .dataframe tbody tr th {\n",
              "        vertical-align: top;\n",
              "    }\n",
              "\n",
              "    .dataframe thead th {\n",
              "        text-align: right;\n",
              "    }\n",
              "</style>\n",
              "<table border=\"1\" class=\"dataframe\">\n",
              "  <thead>\n",
              "    <tr style=\"text-align: right;\">\n",
              "      <th></th>\n",
              "      <th>Actual</th>\n",
              "      <th>Predicted</th>\n",
              "    </tr>\n",
              "  </thead>\n",
              "  <tbody>\n",
              "    <tr>\n",
              "      <th>0</th>\n",
              "      <td>&lt;=50K</td>\n",
              "      <td>&lt;=50K</td>\n",
              "    </tr>\n",
              "    <tr>\n",
              "      <th>1</th>\n",
              "      <td>&gt;50K</td>\n",
              "      <td>&gt;50K</td>\n",
              "    </tr>\n",
              "    <tr>\n",
              "      <th>2</th>\n",
              "      <td>&lt;=50K</td>\n",
              "      <td>&lt;=50K</td>\n",
              "    </tr>\n",
              "    <tr>\n",
              "      <th>3</th>\n",
              "      <td>&lt;=50K</td>\n",
              "      <td>&lt;=50K</td>\n",
              "    </tr>\n",
              "    <tr>\n",
              "      <th>4</th>\n",
              "      <td>&gt;50K</td>\n",
              "      <td>&lt;=50K</td>\n",
              "    </tr>\n",
              "    <tr>\n",
              "      <th>5</th>\n",
              "      <td>&lt;=50K</td>\n",
              "      <td>&gt;50K</td>\n",
              "    </tr>\n",
              "    <tr>\n",
              "      <th>6</th>\n",
              "      <td>&lt;=50K</td>\n",
              "      <td>&lt;=50K</td>\n",
              "    </tr>\n",
              "    <tr>\n",
              "      <th>7</th>\n",
              "      <td>&gt;50K</td>\n",
              "      <td>&lt;=50K</td>\n",
              "    </tr>\n",
              "    <tr>\n",
              "      <th>8</th>\n",
              "      <td>&lt;=50K</td>\n",
              "      <td>&lt;=50K</td>\n",
              "    </tr>\n",
              "    <tr>\n",
              "      <th>9</th>\n",
              "      <td>&lt;=50K</td>\n",
              "      <td>&lt;=50K</td>\n",
              "    </tr>\n",
              "  </tbody>\n",
              "</table>\n",
              "</div>"
            ],
            "text/plain": [
              "   Actual Predicted\n",
              "0   <=50K     <=50K\n",
              "1    >50K      >50K\n",
              "2   <=50K     <=50K\n",
              "3   <=50K     <=50K\n",
              "4    >50K     <=50K\n",
              "5   <=50K      >50K\n",
              "6   <=50K     <=50K\n",
              "7    >50K     <=50K\n",
              "8   <=50K     <=50K\n",
              "9   <=50K     <=50K"
            ]
          },
          "execution_count": 75,
          "metadata": {},
          "output_type": "execute_result"
        }
      ],
      "source": [
        "#Predict the response for test dataset\n",
        "y_pred = clf.predict(x_test)\n",
        "pred = pd.DataFrame({'Actual':y_test.tolist(),'Predicted':y_pred.tolist()}).head(25)\n",
        "pred.head(10)"
      ]
    },
    {
      "cell_type": "code",
      "execution_count": null,
      "id": "49e256c3",
      "metadata": {
        "id": "49e256c3",
        "outputId": "acbeaeb6-03d9-4a17-cbd0-cd2a358de847"
      },
      "outputs": [
        {
          "name": "stdout",
          "output_type": "stream",
          "text": [
            "Accuracy: 0.7962382445141066\n"
          ]
        }
      ],
      "source": [
        "from sklearn import metrics\n",
        "print(\"Accuracy:\",metrics.accuracy_score(y_test, y_pred))"
      ]
    },
    {
      "cell_type": "code",
      "execution_count": null,
      "id": "2b5ee8ef",
      "metadata": {
        "id": "2b5ee8ef",
        "outputId": "b4c9210c-fe2a-48c7-a77e-e88993ced447"
      },
      "outputs": [
        {
          "data": {
            "text/plain": [
              "array([[209,  34],\n",
              "       [ 31,  45]])"
            ]
          },
          "execution_count": 77,
          "metadata": {},
          "output_type": "execute_result"
        }
      ],
      "source": [
        "#confusion matrix\n",
        "metrics.confusion_matrix(y_test, y_pred)"
      ]
    },
    {
      "cell_type": "markdown",
      "id": "badc5c24",
      "metadata": {
        "id": "badc5c24"
      },
      "source": [
        "# Logistic Regression"
      ]
    },
    {
      "cell_type": "code",
      "execution_count": null,
      "id": "3d09c9cc",
      "metadata": {
        "id": "3d09c9cc"
      },
      "outputs": [],
      "source": [
        "from sklearn.linear_model import LogisticRegression"
      ]
    },
    {
      "cell_type": "code",
      "execution_count": null,
      "id": "349ea535",
      "metadata": {
        "id": "349ea535"
      },
      "outputs": [],
      "source": [
        "from sklearn.preprocessing import StandardScaler\n",
        "\n",
        "scaler = StandardScaler()\n",
        "\n",
        "x_train = pd.DataFrame(scaler.fit_transform(x_train), columns = X.columns)\n",
        "x_test = pd.DataFrame(scaler.transform(x_test), columns = X.columns)"
      ]
    },
    {
      "cell_type": "code",
      "execution_count": null,
      "id": "762bf589",
      "metadata": {
        "id": "762bf589",
        "outputId": "e1760929-d1de-40cf-aa19-65bdf762b5ea"
      },
      "outputs": [
        {
          "name": "stdout",
          "output_type": "stream",
          "text": [
            "Logistic Regression 0.8432601880877743\n"
          ]
        }
      ],
      "source": [
        "from sklearn.metrics import accuracy_score\n",
        "logreg = LogisticRegression()\n",
        "logreg.fit(x_train, y_train)\n",
        "\n",
        "Y_pred = logreg.predict(x_test)\n",
        "\n",
        "acc = accuracy_score(y_test, Y_pred)\n",
        "print(\"Logistic Regression\",acc)"
      ]
    },
    {
      "cell_type": "code",
      "execution_count": null,
      "id": "7744a98d",
      "metadata": {
        "id": "7744a98d",
        "outputId": "983316b9-67ad-4c4a-b3c2-287b8e28a7db"
      },
      "outputs": [
        {
          "name": "stdout",
          "output_type": "stream",
          "text": [
            "[[224  31]\n",
            " [ 19  45]]\n"
          ]
        },
        {
          "data": {
            "text/plain": [
              "Text(48.5, 0.5, 'Actual classes')"
            ]
          },
          "execution_count": 81,
          "metadata": {},
          "output_type": "execute_result"
        },
        {
          "data": {
            "image/png": "[encoded data removed]",
            "text/plain": [
              "<Figure size 576x432 with 2 Axes>"
            ]
          },
          "metadata": {},
          "output_type": "display_data"
        }
      ],
      "source": [
        "from sklearn.metrics import confusion_matrix\n",
        "\n",
        "sns.set(rc={'figure.figsize':(8,6)})\n",
        "cfm = confusion_matrix(Y_pred, y_test.values)\n",
        "sns.heatmap(cfm, annot=True)\n",
        "print(cfm)\n",
        "plt.xlabel('Predicted classes')\n",
        "plt.ylabel('Actual classes')"
      ]
    },
    {
      "cell_type": "code",
      "execution_count": null,
      "id": "74687b3a",
      "metadata": {
        "id": "74687b3a",
        "outputId": "41f384a1-252d-489d-daab-c4b4e38dfe0b"
      },
      "outputs": [
        {
          "name": "stdout",
          "output_type": "stream",
          "text": [
            "RandomForestClassifier 0.8181818181818182\n"
          ]
        }
      ],
      "source": [
        "from sklearn.ensemble import RandomForestClassifier\n",
        "\n",
        "rf=RandomForestClassifier( )\n",
        "\n",
        "# Train the model using the training sets\n",
        "rf.fit(x_train,y_train)\n",
        "Y_pred=rf.predict(x_test)\n",
        "\n",
        "acc = accuracy_score(y_test, Y_pred)\n",
        "print(\"RandomForestClassifier\",acc)"
      ]
    },
    {
      "cell_type": "code",
      "execution_count": null,
      "id": "3fc0c4a7",
      "metadata": {
        "id": "3fc0c4a7",
        "outputId": "c1bbf64e-5d08-4f10-e26e-20eafae7a451"
      },
      "outputs": [
        {
          "name": "stdout",
          "output_type": "stream",
          "text": [
            "[[224  39]\n",
            " [ 19  37]]\n"
          ]
        },
        {
          "data": {
            "text/plain": [
              "Text(48.5, 0.5, 'Actual classes')"
            ]
          },
          "execution_count": 83,
          "metadata": {},
          "output_type": "execute_result"
        },
        {
          "data": {
            "image/png": "[encoded data removed]",
            "text/plain": [
              "<Figure size 576x432 with 2 Axes>"
            ]
          },
          "metadata": {},
          "output_type": "display_data"
        }
      ],
      "source": [
        "sns.set(rc={'figure.figsize':(8,6)})\n",
        "cfm = confusion_matrix(Y_pred, y_test.values)\n",
        "sns.heatmap(cfm, annot=True)\n",
        "print(cfm)\n",
        "plt.xlabel('Predicted classes')\n",
        "plt.ylabel('Actual classes')"
      ]
    },
    {
      "cell_type": "code",
      "execution_count": null,
      "id": "b6212a05",
      "metadata": {
        "id": "b6212a05"
      },
      "outputs": [],
      "source": []
    }
  ],
  "metadata": {
    "kernelspec": {
      "display_name": "Python 3",
      "language": "python",
      "name": "python3"
    },
    "language_info": {
      "codemirror_mode": {
        "name": "ipython",
        "version": 3
      },
      "file_extension": ".py",
      "mimetype": "text/x-python",
      "name": "python",
      "nbconvert_exporter": "python",
      "pygments_lexer": "ipython3",
      "version": "3.8.8"
    },
    "colab": {
      "provenance": [],
      "include_colab_link": true
    }
  },
  "nbformat": 4,
  "nbformat_minor": 5
}